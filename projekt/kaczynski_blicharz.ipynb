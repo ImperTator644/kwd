{
 "cells": [
  {
   "cell_type": "code",
   "execution_count": 2,
   "metadata": {},
   "outputs": [],
   "source": [
    "import pandas as pd\n",
    "import numpy as np\n",
    "\n",
    "from pandas import ExcelWriter\n",
    "from pandas import ExcelFile"
   ]
  },
  {
   "attachments": {},
   "cell_type": "markdown",
   "metadata": {},
   "source": [
    "## Ładowanie danych"
   ]
  },
  {
   "cell_type": "code",
   "execution_count": 3,
   "metadata": {},
   "outputs": [
    {
     "data": {
      "text/html": [
       "<div>\n",
       "<style scoped>\n",
       "    .dataframe tbody tr th:only-of-type {\n",
       "        vertical-align: middle;\n",
       "    }\n",
       "\n",
       "    .dataframe tbody tr th {\n",
       "        vertical-align: top;\n",
       "    }\n",
       "\n",
       "    .dataframe thead th {\n",
       "        text-align: right;\n",
       "    }\n",
       "</style>\n",
       "<table border=\"1\" class=\"dataframe\">\n",
       "  <thead>\n",
       "    <tr style=\"text-align: right;\">\n",
       "      <th></th>\n",
       "      <th>name</th>\n",
       "      <th>MDVP:Fo(Hz)</th>\n",
       "      <th>MDVP:Fhi(Hz)</th>\n",
       "      <th>MDVP:Flo(Hz)</th>\n",
       "      <th>MDVP:Jitter(%)</th>\n",
       "      <th>MDVP:Jitter(Abs)</th>\n",
       "      <th>MDVP:RAP</th>\n",
       "      <th>MDVP:PPQ</th>\n",
       "      <th>Jitter:DDP</th>\n",
       "      <th>MDVP:Shimmer</th>\n",
       "      <th>...</th>\n",
       "      <th>Shimmer:DDA</th>\n",
       "      <th>NHR</th>\n",
       "      <th>HNR</th>\n",
       "      <th>RPDE</th>\n",
       "      <th>DFA</th>\n",
       "      <th>spread1</th>\n",
       "      <th>spread2</th>\n",
       "      <th>D2</th>\n",
       "      <th>PPE</th>\n",
       "      <th>status</th>\n",
       "    </tr>\n",
       "  </thead>\n",
       "  <tbody>\n",
       "    <tr>\n",
       "      <th>0</th>\n",
       "      <td>phon_R01_S01_1</td>\n",
       "      <td>119.992</td>\n",
       "      <td>157.302</td>\n",
       "      <td>74.997</td>\n",
       "      <td>0.00784</td>\n",
       "      <td>0.00007</td>\n",
       "      <td>0.00370</td>\n",
       "      <td>0.00554</td>\n",
       "      <td>0.01109</td>\n",
       "      <td>0.04374</td>\n",
       "      <td>...</td>\n",
       "      <td>0.06545</td>\n",
       "      <td>0.02211</td>\n",
       "      <td>21.033</td>\n",
       "      <td>0.414783</td>\n",
       "      <td>0.815285</td>\n",
       "      <td>-4.813031</td>\n",
       "      <td>0.266482</td>\n",
       "      <td>2.301442</td>\n",
       "      <td>0.284654</td>\n",
       "      <td>1</td>\n",
       "    </tr>\n",
       "    <tr>\n",
       "      <th>1</th>\n",
       "      <td>phon_R01_S01_2</td>\n",
       "      <td>122.400</td>\n",
       "      <td>148.650</td>\n",
       "      <td>113.819</td>\n",
       "      <td>0.00968</td>\n",
       "      <td>0.00008</td>\n",
       "      <td>0.00465</td>\n",
       "      <td>0.00696</td>\n",
       "      <td>0.01394</td>\n",
       "      <td>0.06134</td>\n",
       "      <td>...</td>\n",
       "      <td>0.09403</td>\n",
       "      <td>0.01929</td>\n",
       "      <td>19.085</td>\n",
       "      <td>0.458359</td>\n",
       "      <td>0.819521</td>\n",
       "      <td>-4.075192</td>\n",
       "      <td>0.335590</td>\n",
       "      <td>2.486855</td>\n",
       "      <td>0.368674</td>\n",
       "      <td>1</td>\n",
       "    </tr>\n",
       "    <tr>\n",
       "      <th>2</th>\n",
       "      <td>phon_R01_S01_3</td>\n",
       "      <td>116.682</td>\n",
       "      <td>131.111</td>\n",
       "      <td>111.555</td>\n",
       "      <td>0.01050</td>\n",
       "      <td>0.00009</td>\n",
       "      <td>0.00544</td>\n",
       "      <td>0.00781</td>\n",
       "      <td>0.01633</td>\n",
       "      <td>0.05233</td>\n",
       "      <td>...</td>\n",
       "      <td>0.08270</td>\n",
       "      <td>0.01309</td>\n",
       "      <td>20.651</td>\n",
       "      <td>0.429895</td>\n",
       "      <td>0.825288</td>\n",
       "      <td>-4.443179</td>\n",
       "      <td>0.311173</td>\n",
       "      <td>2.342259</td>\n",
       "      <td>0.332634</td>\n",
       "      <td>1</td>\n",
       "    </tr>\n",
       "    <tr>\n",
       "      <th>3</th>\n",
       "      <td>phon_R01_S01_4</td>\n",
       "      <td>116.676</td>\n",
       "      <td>137.871</td>\n",
       "      <td>111.366</td>\n",
       "      <td>0.00997</td>\n",
       "      <td>0.00009</td>\n",
       "      <td>0.00502</td>\n",
       "      <td>0.00698</td>\n",
       "      <td>0.01505</td>\n",
       "      <td>0.05492</td>\n",
       "      <td>...</td>\n",
       "      <td>0.08771</td>\n",
       "      <td>0.01353</td>\n",
       "      <td>20.644</td>\n",
       "      <td>0.434969</td>\n",
       "      <td>0.819235</td>\n",
       "      <td>-4.117501</td>\n",
       "      <td>0.334147</td>\n",
       "      <td>2.405554</td>\n",
       "      <td>0.368975</td>\n",
       "      <td>1</td>\n",
       "    </tr>\n",
       "    <tr>\n",
       "      <th>4</th>\n",
       "      <td>phon_R01_S01_5</td>\n",
       "      <td>116.014</td>\n",
       "      <td>141.781</td>\n",
       "      <td>110.655</td>\n",
       "      <td>0.01284</td>\n",
       "      <td>0.00011</td>\n",
       "      <td>0.00655</td>\n",
       "      <td>0.00908</td>\n",
       "      <td>0.01966</td>\n",
       "      <td>0.06425</td>\n",
       "      <td>...</td>\n",
       "      <td>0.10470</td>\n",
       "      <td>0.01767</td>\n",
       "      <td>19.649</td>\n",
       "      <td>0.417356</td>\n",
       "      <td>0.823484</td>\n",
       "      <td>-3.747787</td>\n",
       "      <td>0.234513</td>\n",
       "      <td>2.332180</td>\n",
       "      <td>0.410335</td>\n",
       "      <td>1</td>\n",
       "    </tr>\n",
       "  </tbody>\n",
       "</table>\n",
       "<p>5 rows × 24 columns</p>\n",
       "</div>"
      ],
      "text/plain": [
       "             name  MDVP:Fo(Hz)  MDVP:Fhi(Hz)  MDVP:Flo(Hz)  MDVP:Jitter(%)  \\\n",
       "0  phon_R01_S01_1      119.992       157.302        74.997         0.00784   \n",
       "1  phon_R01_S01_2      122.400       148.650       113.819         0.00968   \n",
       "2  phon_R01_S01_3      116.682       131.111       111.555         0.01050   \n",
       "3  phon_R01_S01_4      116.676       137.871       111.366         0.00997   \n",
       "4  phon_R01_S01_5      116.014       141.781       110.655         0.01284   \n",
       "\n",
       "   MDVP:Jitter(Abs)  MDVP:RAP  MDVP:PPQ  Jitter:DDP  MDVP:Shimmer  ...  \\\n",
       "0           0.00007   0.00370   0.00554     0.01109       0.04374  ...   \n",
       "1           0.00008   0.00465   0.00696     0.01394       0.06134  ...   \n",
       "2           0.00009   0.00544   0.00781     0.01633       0.05233  ...   \n",
       "3           0.00009   0.00502   0.00698     0.01505       0.05492  ...   \n",
       "4           0.00011   0.00655   0.00908     0.01966       0.06425  ...   \n",
       "\n",
       "   Shimmer:DDA      NHR     HNR      RPDE       DFA   spread1   spread2  \\\n",
       "0      0.06545  0.02211  21.033  0.414783  0.815285 -4.813031  0.266482   \n",
       "1      0.09403  0.01929  19.085  0.458359  0.819521 -4.075192  0.335590   \n",
       "2      0.08270  0.01309  20.651  0.429895  0.825288 -4.443179  0.311173   \n",
       "3      0.08771  0.01353  20.644  0.434969  0.819235 -4.117501  0.334147   \n",
       "4      0.10470  0.01767  19.649  0.417356  0.823484 -3.747787  0.234513   \n",
       "\n",
       "         D2       PPE  status  \n",
       "0  2.301442  0.284654       1  \n",
       "1  2.486855  0.368674       1  \n",
       "2  2.342259  0.332634       1  \n",
       "3  2.405554  0.368975       1  \n",
       "4  2.332180  0.410335       1  \n",
       "\n",
       "[5 rows x 24 columns]"
      ]
     },
     "execution_count": 3,
     "metadata": {},
     "output_type": "execute_result"
    }
   ],
   "source": [
    "parkinson_data_file = pd.read_excel('dane.xls')\n",
    "parkinson_data_file.head()"
   ]
  },
  {
   "attachments": {},
   "cell_type": "markdown",
   "metadata": {},
   "source": [
    "## Struktura do przechowywania danych"
   ]
  },
  {
   "cell_type": "code",
   "execution_count": 4,
   "metadata": {},
   "outputs": [],
   "source": [
    "class DataSet:\n",
    "    def __init__(self, data = None, target = None):\n",
    "        self.data = data\n",
    "        self.target = target"
   ]
  },
  {
   "attachments": {},
   "cell_type": "markdown",
   "metadata": {},
   "source": [
    "## Wstawienie danych do struktury"
   ]
  },
  {
   "cell_type": "code",
   "execution_count": 5,
   "metadata": {},
   "outputs": [
    {
     "data": {
      "text/html": [
       "<div>\n",
       "<style scoped>\n",
       "    .dataframe tbody tr th:only-of-type {\n",
       "        vertical-align: middle;\n",
       "    }\n",
       "\n",
       "    .dataframe tbody tr th {\n",
       "        vertical-align: top;\n",
       "    }\n",
       "\n",
       "    .dataframe thead th {\n",
       "        text-align: right;\n",
       "    }\n",
       "</style>\n",
       "<table border=\"1\" class=\"dataframe\">\n",
       "  <thead>\n",
       "    <tr style=\"text-align: right;\">\n",
       "      <th></th>\n",
       "      <th>MDVP:Fo(Hz)</th>\n",
       "      <th>MDVP:Fhi(Hz)</th>\n",
       "      <th>MDVP:Flo(Hz)</th>\n",
       "      <th>MDVP:Jitter(%)</th>\n",
       "      <th>MDVP:Jitter(Abs)</th>\n",
       "      <th>MDVP:RAP</th>\n",
       "      <th>MDVP:PPQ</th>\n",
       "      <th>Jitter:DDP</th>\n",
       "      <th>MDVP:Shimmer</th>\n",
       "      <th>MDVP:Shimmer(dB)</th>\n",
       "      <th>...</th>\n",
       "      <th>MDVP:APQ</th>\n",
       "      <th>Shimmer:DDA</th>\n",
       "      <th>NHR</th>\n",
       "      <th>HNR</th>\n",
       "      <th>RPDE</th>\n",
       "      <th>DFA</th>\n",
       "      <th>spread1</th>\n",
       "      <th>spread2</th>\n",
       "      <th>D2</th>\n",
       "      <th>PPE</th>\n",
       "    </tr>\n",
       "  </thead>\n",
       "  <tbody>\n",
       "    <tr>\n",
       "      <th>175</th>\n",
       "      <td>115.380</td>\n",
       "      <td>123.109</td>\n",
       "      <td>108.634</td>\n",
       "      <td>0.00332</td>\n",
       "      <td>0.00003</td>\n",
       "      <td>0.00160</td>\n",
       "      <td>0.00199</td>\n",
       "      <td>0.00480</td>\n",
       "      <td>0.01503</td>\n",
       "      <td>0.137</td>\n",
       "      <td>...</td>\n",
       "      <td>0.01133</td>\n",
       "      <td>0.02436</td>\n",
       "      <td>0.00401</td>\n",
       "      <td>26.005</td>\n",
       "      <td>0.405991</td>\n",
       "      <td>0.761255</td>\n",
       "      <td>-5.966779</td>\n",
       "      <td>0.197938</td>\n",
       "      <td>1.974857</td>\n",
       "      <td>0.184067</td>\n",
       "    </tr>\n",
       "    <tr>\n",
       "      <th>176</th>\n",
       "      <td>116.388</td>\n",
       "      <td>129.038</td>\n",
       "      <td>108.970</td>\n",
       "      <td>0.00346</td>\n",
       "      <td>0.00003</td>\n",
       "      <td>0.00169</td>\n",
       "      <td>0.00213</td>\n",
       "      <td>0.00507</td>\n",
       "      <td>0.01725</td>\n",
       "      <td>0.155</td>\n",
       "      <td>...</td>\n",
       "      <td>0.01331</td>\n",
       "      <td>0.02623</td>\n",
       "      <td>0.00415</td>\n",
       "      <td>26.143</td>\n",
       "      <td>0.361232</td>\n",
       "      <td>0.763242</td>\n",
       "      <td>-6.016891</td>\n",
       "      <td>0.109256</td>\n",
       "      <td>2.004719</td>\n",
       "      <td>0.174429</td>\n",
       "    </tr>\n",
       "    <tr>\n",
       "      <th>177</th>\n",
       "      <td>151.737</td>\n",
       "      <td>190.204</td>\n",
       "      <td>129.859</td>\n",
       "      <td>0.00314</td>\n",
       "      <td>0.00002</td>\n",
       "      <td>0.00135</td>\n",
       "      <td>0.00162</td>\n",
       "      <td>0.00406</td>\n",
       "      <td>0.01469</td>\n",
       "      <td>0.132</td>\n",
       "      <td>...</td>\n",
       "      <td>0.01230</td>\n",
       "      <td>0.02184</td>\n",
       "      <td>0.00570</td>\n",
       "      <td>24.151</td>\n",
       "      <td>0.396610</td>\n",
       "      <td>0.745957</td>\n",
       "      <td>-6.486822</td>\n",
       "      <td>0.197919</td>\n",
       "      <td>2.449763</td>\n",
       "      <td>0.132703</td>\n",
       "    </tr>\n",
       "    <tr>\n",
       "      <th>178</th>\n",
       "      <td>148.790</td>\n",
       "      <td>158.359</td>\n",
       "      <td>138.990</td>\n",
       "      <td>0.00309</td>\n",
       "      <td>0.00002</td>\n",
       "      <td>0.00152</td>\n",
       "      <td>0.00186</td>\n",
       "      <td>0.00456</td>\n",
       "      <td>0.01574</td>\n",
       "      <td>0.142</td>\n",
       "      <td>...</td>\n",
       "      <td>0.01309</td>\n",
       "      <td>0.02518</td>\n",
       "      <td>0.00488</td>\n",
       "      <td>24.412</td>\n",
       "      <td>0.402591</td>\n",
       "      <td>0.762508</td>\n",
       "      <td>-6.311987</td>\n",
       "      <td>0.182459</td>\n",
       "      <td>2.251553</td>\n",
       "      <td>0.160306</td>\n",
       "    </tr>\n",
       "    <tr>\n",
       "      <th>179</th>\n",
       "      <td>148.143</td>\n",
       "      <td>155.982</td>\n",
       "      <td>135.041</td>\n",
       "      <td>0.00392</td>\n",
       "      <td>0.00003</td>\n",
       "      <td>0.00204</td>\n",
       "      <td>0.00231</td>\n",
       "      <td>0.00612</td>\n",
       "      <td>0.01450</td>\n",
       "      <td>0.131</td>\n",
       "      <td>...</td>\n",
       "      <td>0.01263</td>\n",
       "      <td>0.02175</td>\n",
       "      <td>0.00540</td>\n",
       "      <td>23.683</td>\n",
       "      <td>0.398499</td>\n",
       "      <td>0.778349</td>\n",
       "      <td>-5.711205</td>\n",
       "      <td>0.240875</td>\n",
       "      <td>2.845109</td>\n",
       "      <td>0.192730</td>\n",
       "    </tr>\n",
       "    <tr>\n",
       "      <th>180</th>\n",
       "      <td>150.440</td>\n",
       "      <td>163.441</td>\n",
       "      <td>144.736</td>\n",
       "      <td>0.00396</td>\n",
       "      <td>0.00003</td>\n",
       "      <td>0.00206</td>\n",
       "      <td>0.00233</td>\n",
       "      <td>0.00619</td>\n",
       "      <td>0.02551</td>\n",
       "      <td>0.237</td>\n",
       "      <td>...</td>\n",
       "      <td>0.02148</td>\n",
       "      <td>0.03964</td>\n",
       "      <td>0.00611</td>\n",
       "      <td>23.133</td>\n",
       "      <td>0.352396</td>\n",
       "      <td>0.759320</td>\n",
       "      <td>-6.261446</td>\n",
       "      <td>0.183218</td>\n",
       "      <td>2.264226</td>\n",
       "      <td>0.144105</td>\n",
       "    </tr>\n",
       "    <tr>\n",
       "      <th>181</th>\n",
       "      <td>148.462</td>\n",
       "      <td>161.078</td>\n",
       "      <td>141.998</td>\n",
       "      <td>0.00397</td>\n",
       "      <td>0.00003</td>\n",
       "      <td>0.00202</td>\n",
       "      <td>0.00235</td>\n",
       "      <td>0.00605</td>\n",
       "      <td>0.01831</td>\n",
       "      <td>0.163</td>\n",
       "      <td>...</td>\n",
       "      <td>0.01559</td>\n",
       "      <td>0.02849</td>\n",
       "      <td>0.00639</td>\n",
       "      <td>22.866</td>\n",
       "      <td>0.408598</td>\n",
       "      <td>0.768845</td>\n",
       "      <td>-5.704053</td>\n",
       "      <td>0.216204</td>\n",
       "      <td>2.679185</td>\n",
       "      <td>0.197710</td>\n",
       "    </tr>\n",
       "    <tr>\n",
       "      <th>182</th>\n",
       "      <td>149.818</td>\n",
       "      <td>163.417</td>\n",
       "      <td>144.786</td>\n",
       "      <td>0.00336</td>\n",
       "      <td>0.00002</td>\n",
       "      <td>0.00174</td>\n",
       "      <td>0.00198</td>\n",
       "      <td>0.00521</td>\n",
       "      <td>0.02145</td>\n",
       "      <td>0.198</td>\n",
       "      <td>...</td>\n",
       "      <td>0.01666</td>\n",
       "      <td>0.03464</td>\n",
       "      <td>0.00595</td>\n",
       "      <td>23.008</td>\n",
       "      <td>0.329577</td>\n",
       "      <td>0.757180</td>\n",
       "      <td>-6.277170</td>\n",
       "      <td>0.109397</td>\n",
       "      <td>2.209021</td>\n",
       "      <td>0.156368</td>\n",
       "    </tr>\n",
       "    <tr>\n",
       "      <th>183</th>\n",
       "      <td>117.226</td>\n",
       "      <td>123.925</td>\n",
       "      <td>106.656</td>\n",
       "      <td>0.00417</td>\n",
       "      <td>0.00004</td>\n",
       "      <td>0.00186</td>\n",
       "      <td>0.00270</td>\n",
       "      <td>0.00558</td>\n",
       "      <td>0.01909</td>\n",
       "      <td>0.171</td>\n",
       "      <td>...</td>\n",
       "      <td>0.01949</td>\n",
       "      <td>0.02592</td>\n",
       "      <td>0.00955</td>\n",
       "      <td>23.079</td>\n",
       "      <td>0.603515</td>\n",
       "      <td>0.669565</td>\n",
       "      <td>-5.619070</td>\n",
       "      <td>0.191576</td>\n",
       "      <td>2.027228</td>\n",
       "      <td>0.215724</td>\n",
       "    </tr>\n",
       "    <tr>\n",
       "      <th>184</th>\n",
       "      <td>116.848</td>\n",
       "      <td>217.552</td>\n",
       "      <td>99.503</td>\n",
       "      <td>0.00531</td>\n",
       "      <td>0.00005</td>\n",
       "      <td>0.00260</td>\n",
       "      <td>0.00346</td>\n",
       "      <td>0.00780</td>\n",
       "      <td>0.01795</td>\n",
       "      <td>0.163</td>\n",
       "      <td>...</td>\n",
       "      <td>0.01756</td>\n",
       "      <td>0.02429</td>\n",
       "      <td>0.01179</td>\n",
       "      <td>22.085</td>\n",
       "      <td>0.663842</td>\n",
       "      <td>0.656516</td>\n",
       "      <td>-5.198864</td>\n",
       "      <td>0.206768</td>\n",
       "      <td>2.120412</td>\n",
       "      <td>0.252404</td>\n",
       "    </tr>\n",
       "    <tr>\n",
       "      <th>185</th>\n",
       "      <td>116.286</td>\n",
       "      <td>177.291</td>\n",
       "      <td>96.983</td>\n",
       "      <td>0.00314</td>\n",
       "      <td>0.00003</td>\n",
       "      <td>0.00134</td>\n",
       "      <td>0.00192</td>\n",
       "      <td>0.00403</td>\n",
       "      <td>0.01564</td>\n",
       "      <td>0.136</td>\n",
       "      <td>...</td>\n",
       "      <td>0.01691</td>\n",
       "      <td>0.02001</td>\n",
       "      <td>0.00737</td>\n",
       "      <td>24.199</td>\n",
       "      <td>0.598515</td>\n",
       "      <td>0.654331</td>\n",
       "      <td>-5.592584</td>\n",
       "      <td>0.133917</td>\n",
       "      <td>2.058658</td>\n",
       "      <td>0.214346</td>\n",
       "    </tr>\n",
       "    <tr>\n",
       "      <th>186</th>\n",
       "      <td>116.556</td>\n",
       "      <td>592.030</td>\n",
       "      <td>86.228</td>\n",
       "      <td>0.00496</td>\n",
       "      <td>0.00004</td>\n",
       "      <td>0.00254</td>\n",
       "      <td>0.00263</td>\n",
       "      <td>0.00762</td>\n",
       "      <td>0.01660</td>\n",
       "      <td>0.154</td>\n",
       "      <td>...</td>\n",
       "      <td>0.01491</td>\n",
       "      <td>0.02460</td>\n",
       "      <td>0.01397</td>\n",
       "      <td>23.958</td>\n",
       "      <td>0.566424</td>\n",
       "      <td>0.667654</td>\n",
       "      <td>-6.431119</td>\n",
       "      <td>0.153310</td>\n",
       "      <td>2.161936</td>\n",
       "      <td>0.120605</td>\n",
       "    </tr>\n",
       "    <tr>\n",
       "      <th>187</th>\n",
       "      <td>116.342</td>\n",
       "      <td>581.289</td>\n",
       "      <td>94.246</td>\n",
       "      <td>0.00267</td>\n",
       "      <td>0.00002</td>\n",
       "      <td>0.00115</td>\n",
       "      <td>0.00148</td>\n",
       "      <td>0.00345</td>\n",
       "      <td>0.01300</td>\n",
       "      <td>0.117</td>\n",
       "      <td>...</td>\n",
       "      <td>0.01144</td>\n",
       "      <td>0.01892</td>\n",
       "      <td>0.00680</td>\n",
       "      <td>25.023</td>\n",
       "      <td>0.528485</td>\n",
       "      <td>0.663884</td>\n",
       "      <td>-6.359018</td>\n",
       "      <td>0.116636</td>\n",
       "      <td>2.152083</td>\n",
       "      <td>0.138868</td>\n",
       "    </tr>\n",
       "    <tr>\n",
       "      <th>188</th>\n",
       "      <td>114.563</td>\n",
       "      <td>119.167</td>\n",
       "      <td>86.647</td>\n",
       "      <td>0.00327</td>\n",
       "      <td>0.00003</td>\n",
       "      <td>0.00146</td>\n",
       "      <td>0.00184</td>\n",
       "      <td>0.00439</td>\n",
       "      <td>0.01185</td>\n",
       "      <td>0.106</td>\n",
       "      <td>...</td>\n",
       "      <td>0.01095</td>\n",
       "      <td>0.01672</td>\n",
       "      <td>0.00703</td>\n",
       "      <td>24.775</td>\n",
       "      <td>0.555303</td>\n",
       "      <td>0.659132</td>\n",
       "      <td>-6.710219</td>\n",
       "      <td>0.149694</td>\n",
       "      <td>1.913990</td>\n",
       "      <td>0.121777</td>\n",
       "    </tr>\n",
       "    <tr>\n",
       "      <th>189</th>\n",
       "      <td>201.774</td>\n",
       "      <td>262.707</td>\n",
       "      <td>78.228</td>\n",
       "      <td>0.00694</td>\n",
       "      <td>0.00003</td>\n",
       "      <td>0.00412</td>\n",
       "      <td>0.00396</td>\n",
       "      <td>0.01235</td>\n",
       "      <td>0.02574</td>\n",
       "      <td>0.255</td>\n",
       "      <td>...</td>\n",
       "      <td>0.01758</td>\n",
       "      <td>0.04363</td>\n",
       "      <td>0.04441</td>\n",
       "      <td>19.368</td>\n",
       "      <td>0.508479</td>\n",
       "      <td>0.683761</td>\n",
       "      <td>-6.934474</td>\n",
       "      <td>0.159890</td>\n",
       "      <td>2.316346</td>\n",
       "      <td>0.112838</td>\n",
       "    </tr>\n",
       "    <tr>\n",
       "      <th>190</th>\n",
       "      <td>174.188</td>\n",
       "      <td>230.978</td>\n",
       "      <td>94.261</td>\n",
       "      <td>0.00459</td>\n",
       "      <td>0.00003</td>\n",
       "      <td>0.00263</td>\n",
       "      <td>0.00259</td>\n",
       "      <td>0.00790</td>\n",
       "      <td>0.04087</td>\n",
       "      <td>0.405</td>\n",
       "      <td>...</td>\n",
       "      <td>0.02745</td>\n",
       "      <td>0.07008</td>\n",
       "      <td>0.02764</td>\n",
       "      <td>19.517</td>\n",
       "      <td>0.448439</td>\n",
       "      <td>0.657899</td>\n",
       "      <td>-6.538586</td>\n",
       "      <td>0.121952</td>\n",
       "      <td>2.657476</td>\n",
       "      <td>0.133050</td>\n",
       "    </tr>\n",
       "    <tr>\n",
       "      <th>191</th>\n",
       "      <td>209.516</td>\n",
       "      <td>253.017</td>\n",
       "      <td>89.488</td>\n",
       "      <td>0.00564</td>\n",
       "      <td>0.00003</td>\n",
       "      <td>0.00331</td>\n",
       "      <td>0.00292</td>\n",
       "      <td>0.00994</td>\n",
       "      <td>0.02751</td>\n",
       "      <td>0.263</td>\n",
       "      <td>...</td>\n",
       "      <td>0.01879</td>\n",
       "      <td>0.04812</td>\n",
       "      <td>0.01810</td>\n",
       "      <td>19.147</td>\n",
       "      <td>0.431674</td>\n",
       "      <td>0.683244</td>\n",
       "      <td>-6.195325</td>\n",
       "      <td>0.129303</td>\n",
       "      <td>2.784312</td>\n",
       "      <td>0.168895</td>\n",
       "    </tr>\n",
       "    <tr>\n",
       "      <th>192</th>\n",
       "      <td>174.688</td>\n",
       "      <td>240.005</td>\n",
       "      <td>74.287</td>\n",
       "      <td>0.01360</td>\n",
       "      <td>0.00008</td>\n",
       "      <td>0.00624</td>\n",
       "      <td>0.00564</td>\n",
       "      <td>0.01873</td>\n",
       "      <td>0.02308</td>\n",
       "      <td>0.256</td>\n",
       "      <td>...</td>\n",
       "      <td>0.01667</td>\n",
       "      <td>0.03804</td>\n",
       "      <td>0.10715</td>\n",
       "      <td>17.883</td>\n",
       "      <td>0.407567</td>\n",
       "      <td>0.655683</td>\n",
       "      <td>-6.787197</td>\n",
       "      <td>0.158453</td>\n",
       "      <td>2.679772</td>\n",
       "      <td>0.131728</td>\n",
       "    </tr>\n",
       "    <tr>\n",
       "      <th>193</th>\n",
       "      <td>198.764</td>\n",
       "      <td>396.961</td>\n",
       "      <td>74.904</td>\n",
       "      <td>0.00740</td>\n",
       "      <td>0.00004</td>\n",
       "      <td>0.00370</td>\n",
       "      <td>0.00390</td>\n",
       "      <td>0.01109</td>\n",
       "      <td>0.02296</td>\n",
       "      <td>0.241</td>\n",
       "      <td>...</td>\n",
       "      <td>0.01588</td>\n",
       "      <td>0.03794</td>\n",
       "      <td>0.07223</td>\n",
       "      <td>19.020</td>\n",
       "      <td>0.451221</td>\n",
       "      <td>0.643956</td>\n",
       "      <td>-6.744577</td>\n",
       "      <td>0.207454</td>\n",
       "      <td>2.138608</td>\n",
       "      <td>0.123306</td>\n",
       "    </tr>\n",
       "    <tr>\n",
       "      <th>194</th>\n",
       "      <td>214.289</td>\n",
       "      <td>260.277</td>\n",
       "      <td>77.973</td>\n",
       "      <td>0.00567</td>\n",
       "      <td>0.00003</td>\n",
       "      <td>0.00295</td>\n",
       "      <td>0.00317</td>\n",
       "      <td>0.00885</td>\n",
       "      <td>0.01884</td>\n",
       "      <td>0.190</td>\n",
       "      <td>...</td>\n",
       "      <td>0.01373</td>\n",
       "      <td>0.03078</td>\n",
       "      <td>0.04398</td>\n",
       "      <td>21.209</td>\n",
       "      <td>0.462803</td>\n",
       "      <td>0.664357</td>\n",
       "      <td>-5.724056</td>\n",
       "      <td>0.190667</td>\n",
       "      <td>2.555477</td>\n",
       "      <td>0.148569</td>\n",
       "    </tr>\n",
       "  </tbody>\n",
       "</table>\n",
       "<p>20 rows × 22 columns</p>\n",
       "</div>"
      ],
      "text/plain": [
       "     MDVP:Fo(Hz)  MDVP:Fhi(Hz)  MDVP:Flo(Hz)  MDVP:Jitter(%)  \\\n",
       "175      115.380       123.109       108.634         0.00332   \n",
       "176      116.388       129.038       108.970         0.00346   \n",
       "177      151.737       190.204       129.859         0.00314   \n",
       "178      148.790       158.359       138.990         0.00309   \n",
       "179      148.143       155.982       135.041         0.00392   \n",
       "180      150.440       163.441       144.736         0.00396   \n",
       "181      148.462       161.078       141.998         0.00397   \n",
       "182      149.818       163.417       144.786         0.00336   \n",
       "183      117.226       123.925       106.656         0.00417   \n",
       "184      116.848       217.552        99.503         0.00531   \n",
       "185      116.286       177.291        96.983         0.00314   \n",
       "186      116.556       592.030        86.228         0.00496   \n",
       "187      116.342       581.289        94.246         0.00267   \n",
       "188      114.563       119.167        86.647         0.00327   \n",
       "189      201.774       262.707        78.228         0.00694   \n",
       "190      174.188       230.978        94.261         0.00459   \n",
       "191      209.516       253.017        89.488         0.00564   \n",
       "192      174.688       240.005        74.287         0.01360   \n",
       "193      198.764       396.961        74.904         0.00740   \n",
       "194      214.289       260.277        77.973         0.00567   \n",
       "\n",
       "     MDVP:Jitter(Abs)  MDVP:RAP  MDVP:PPQ  Jitter:DDP  MDVP:Shimmer  \\\n",
       "175           0.00003   0.00160   0.00199     0.00480       0.01503   \n",
       "176           0.00003   0.00169   0.00213     0.00507       0.01725   \n",
       "177           0.00002   0.00135   0.00162     0.00406       0.01469   \n",
       "178           0.00002   0.00152   0.00186     0.00456       0.01574   \n",
       "179           0.00003   0.00204   0.00231     0.00612       0.01450   \n",
       "180           0.00003   0.00206   0.00233     0.00619       0.02551   \n",
       "181           0.00003   0.00202   0.00235     0.00605       0.01831   \n",
       "182           0.00002   0.00174   0.00198     0.00521       0.02145   \n",
       "183           0.00004   0.00186   0.00270     0.00558       0.01909   \n",
       "184           0.00005   0.00260   0.00346     0.00780       0.01795   \n",
       "185           0.00003   0.00134   0.00192     0.00403       0.01564   \n",
       "186           0.00004   0.00254   0.00263     0.00762       0.01660   \n",
       "187           0.00002   0.00115   0.00148     0.00345       0.01300   \n",
       "188           0.00003   0.00146   0.00184     0.00439       0.01185   \n",
       "189           0.00003   0.00412   0.00396     0.01235       0.02574   \n",
       "190           0.00003   0.00263   0.00259     0.00790       0.04087   \n",
       "191           0.00003   0.00331   0.00292     0.00994       0.02751   \n",
       "192           0.00008   0.00624   0.00564     0.01873       0.02308   \n",
       "193           0.00004   0.00370   0.00390     0.01109       0.02296   \n",
       "194           0.00003   0.00295   0.00317     0.00885       0.01884   \n",
       "\n",
       "     MDVP:Shimmer(dB)  ...  MDVP:APQ  Shimmer:DDA      NHR     HNR      RPDE  \\\n",
       "175             0.137  ...   0.01133      0.02436  0.00401  26.005  0.405991   \n",
       "176             0.155  ...   0.01331      0.02623  0.00415  26.143  0.361232   \n",
       "177             0.132  ...   0.01230      0.02184  0.00570  24.151  0.396610   \n",
       "178             0.142  ...   0.01309      0.02518  0.00488  24.412  0.402591   \n",
       "179             0.131  ...   0.01263      0.02175  0.00540  23.683  0.398499   \n",
       "180             0.237  ...   0.02148      0.03964  0.00611  23.133  0.352396   \n",
       "181             0.163  ...   0.01559      0.02849  0.00639  22.866  0.408598   \n",
       "182             0.198  ...   0.01666      0.03464  0.00595  23.008  0.329577   \n",
       "183             0.171  ...   0.01949      0.02592  0.00955  23.079  0.603515   \n",
       "184             0.163  ...   0.01756      0.02429  0.01179  22.085  0.663842   \n",
       "185             0.136  ...   0.01691      0.02001  0.00737  24.199  0.598515   \n",
       "186             0.154  ...   0.01491      0.02460  0.01397  23.958  0.566424   \n",
       "187             0.117  ...   0.01144      0.01892  0.00680  25.023  0.528485   \n",
       "188             0.106  ...   0.01095      0.01672  0.00703  24.775  0.555303   \n",
       "189             0.255  ...   0.01758      0.04363  0.04441  19.368  0.508479   \n",
       "190             0.405  ...   0.02745      0.07008  0.02764  19.517  0.448439   \n",
       "191             0.263  ...   0.01879      0.04812  0.01810  19.147  0.431674   \n",
       "192             0.256  ...   0.01667      0.03804  0.10715  17.883  0.407567   \n",
       "193             0.241  ...   0.01588      0.03794  0.07223  19.020  0.451221   \n",
       "194             0.190  ...   0.01373      0.03078  0.04398  21.209  0.462803   \n",
       "\n",
       "          DFA   spread1   spread2        D2       PPE  \n",
       "175  0.761255 -5.966779  0.197938  1.974857  0.184067  \n",
       "176  0.763242 -6.016891  0.109256  2.004719  0.174429  \n",
       "177  0.745957 -6.486822  0.197919  2.449763  0.132703  \n",
       "178  0.762508 -6.311987  0.182459  2.251553  0.160306  \n",
       "179  0.778349 -5.711205  0.240875  2.845109  0.192730  \n",
       "180  0.759320 -6.261446  0.183218  2.264226  0.144105  \n",
       "181  0.768845 -5.704053  0.216204  2.679185  0.197710  \n",
       "182  0.757180 -6.277170  0.109397  2.209021  0.156368  \n",
       "183  0.669565 -5.619070  0.191576  2.027228  0.215724  \n",
       "184  0.656516 -5.198864  0.206768  2.120412  0.252404  \n",
       "185  0.654331 -5.592584  0.133917  2.058658  0.214346  \n",
       "186  0.667654 -6.431119  0.153310  2.161936  0.120605  \n",
       "187  0.663884 -6.359018  0.116636  2.152083  0.138868  \n",
       "188  0.659132 -6.710219  0.149694  1.913990  0.121777  \n",
       "189  0.683761 -6.934474  0.159890  2.316346  0.112838  \n",
       "190  0.657899 -6.538586  0.121952  2.657476  0.133050  \n",
       "191  0.683244 -6.195325  0.129303  2.784312  0.168895  \n",
       "192  0.655683 -6.787197  0.158453  2.679772  0.131728  \n",
       "193  0.643956 -6.744577  0.207454  2.138608  0.123306  \n",
       "194  0.664357 -5.724056  0.190667  2.555477  0.148569  \n",
       "\n",
       "[20 rows x 22 columns]"
      ]
     },
     "execution_count": 5,
     "metadata": {},
     "output_type": "execute_result"
    }
   ],
   "source": [
    "parkinson_data = parkinson_data_file.iloc[0:,1:-1]\n",
    "parkinson_target = parkinson_data_file.iloc[0:,-1]\n",
    "\n",
    "parkinson_data.tail(20)"
   ]
  },
  {
   "attachments": {},
   "cell_type": "markdown",
   "metadata": {},
   "source": [
    "## Sprawdzenie poprawności danych w stworzonej strukturze"
   ]
  },
  {
   "cell_type": "code",
   "execution_count": 6,
   "metadata": {},
   "outputs": [
    {
     "name": "stdout",
     "output_type": "stream",
     "text": [
      "<class 'numpy.ndarray'>\n",
      "<class 'numpy.ndarray'>\n",
      "(195, 22)\n",
      "(195,)\n"
     ]
    }
   ],
   "source": [
    "parkinson = DataSet(np.array(parkinson_data, dtype=np.double), np.array(parkinson_target, dtype=np.int8))\n",
    "\n",
    "print(type(parkinson.data))\n",
    "print(type(parkinson.target))\n",
    "\n",
    "print(parkinson.data.shape)\n",
    "print(parkinson.target.shape)"
   ]
  },
  {
   "attachments": {},
   "cell_type": "markdown",
   "metadata": {},
   "source": [
    "## Standaryzacja danych (StandardScaler)"
   ]
  },
  {
   "cell_type": "code",
   "execution_count": 7,
   "metadata": {},
   "outputs": [],
   "source": [
    "from sklearn.preprocessing import StandardScaler\n",
    "\n",
    "scaler = StandardScaler()\n",
    "\n",
    "scaled_parkinson = DataSet(scaler.fit_transform(parkinson.data), parkinson.target)"
   ]
  },
  {
   "attachments": {},
   "cell_type": "markdown",
   "metadata": {},
   "source": [
    "## Porównanie danych przed i po standaryzacji"
   ]
  },
  {
   "cell_type": "code",
   "execution_count": 8,
   "metadata": {},
   "outputs": [
    {
     "name": "stdout",
     "output_type": "stream",
     "text": [
      "First patient in database before scaling\n",
      "[ 1.224000e+02  1.486500e+02  1.138190e+02  9.680000e-03  8.000000e-05\n",
      "  4.650000e-03  6.960000e-03  1.394000e-02  6.134000e-02  6.260000e-01\n",
      "  3.134000e-02  4.518000e-02  4.368000e-02  9.403000e-02  1.929000e-02\n",
      "  1.908500e+01  4.583590e-01  8.195210e-01 -4.075192e+00  3.355900e-01\n",
      "  2.486855e+00  3.686740e-01]\n",
      "---Mean---\n",
      "[ 1.54228641e+02  1.97104918e+02  1.16324631e+02  6.22046154e-03\n",
      "  4.39589744e-05  3.30641026e-03  3.44635897e-03  9.91994872e-03\n",
      "  2.97091282e-02  2.82251282e-01  1.56641538e-02  1.78782564e-02\n",
      "  2.40814872e-02  4.69926154e-02  2.48470769e-02  2.18859744e+01\n",
      "  4.98535538e-01  7.18099046e-01 -5.68439674e+00  2.26510349e-01\n",
      "  2.38182609e+00  2.06551641e-01]\n",
      "--std---\n",
      "[4.12838000e+01 9.12566524e+01 4.34096764e+01 4.83568660e-03\n",
      " 3.47325069e-05 2.96015496e-03 2.75189325e-03 8.88048592e-03\n",
      " 1.88085186e-02 1.94376962e-01 1.01270944e-02 1.19928359e-02\n",
      " 1.69032272e-02 3.03809187e-02 4.03146783e-02 4.41440157e+00\n",
      " 1.03674854e-01 5.51937612e-02 1.08740877e+00 8.31916268e-02\n",
      " 3.81816249e-01 8.98879503e-02]\n"
     ]
    }
   ],
   "source": [
    "print(\"First patient in database before scaling\")\n",
    "print(parkinson.data[1])\n",
    "print('---Mean---')\n",
    "print(parkinson.data.mean(axis=0))\n",
    "print('--std---')\n",
    "print(parkinson.data.std(axis=0))"
   ]
  },
  {
   "cell_type": "code",
   "execution_count": 9,
   "metadata": {},
   "outputs": [
    {
     "name": "stdout",
     "output_type": "stream",
     "text": [
      "First patient in database after scaling\n",
      "[-0.77097169 -0.53097409 -0.05772056  0.71541825  1.03767418  0.45389169\n",
      "  1.27680862  0.45268371  1.68173116  1.7684643   1.54791153  2.27650439\n",
      "  1.15945391  1.54825419 -0.13784252 -0.63450828 -0.38752443  1.83756192\n",
      "  1.47985265  1.31118546  0.27507712  1.80360503]\n",
      "---Mean---\n",
      "[ 2.96059473e-17 -2.27738056e-16  1.04759506e-16  1.82190445e-17\n",
      "  9.10952225e-17 -1.27533312e-16  6.37666558e-17  7.28761780e-17\n",
      "  2.36847579e-16 -1.63971401e-16  1.06467541e-16  2.62468110e-16\n",
      " -6.83214169e-17 -1.69380179e-16  1.09314267e-16  8.19857003e-16\n",
      " -1.09314267e-16  6.55885602e-16  1.20245694e-15 -1.13869028e-16\n",
      " -5.92118946e-16  1.36642834e-17]\n",
      "--std---\n",
      "[1. 1. 1. 1. 1. 1. 1. 1. 1. 1. 1. 1. 1. 1. 1. 1. 1. 1. 1. 1. 1. 1.]\n"
     ]
    }
   ],
   "source": [
    "print(\"First patient in database after scaling\")\n",
    "print(scaled_parkinson.data[1])\n",
    "print('---Mean---')\n",
    "print(scaled_parkinson.data.mean(axis=0))\n",
    "print('--std---')\n",
    "print(scaled_parkinson.data.std(axis=0))"
   ]
  },
  {
   "attachments": {},
   "cell_type": "markdown",
   "metadata": {},
   "source": [
    "## Podział danych na część trenującą i testową"
   ]
  },
  {
   "cell_type": "code",
   "execution_count": 10,
   "metadata": {},
   "outputs": [],
   "source": [
    "from sklearn.model_selection import train_test_split"
   ]
  },
  {
   "cell_type": "code",
   "execution_count": 11,
   "metadata": {},
   "outputs": [],
   "source": [
    "parkinson_train = DataSet()\n",
    "parkinson_test = DataSet()"
   ]
  },
  {
   "cell_type": "code",
   "execution_count": 12,
   "metadata": {},
   "outputs": [],
   "source": [
    "parkinson_train.data, parkinson_test.data, \\\n",
    "parkinson_train.target, parkinson_test.target = \\\n",
    "train_test_split(scaled_parkinson.data, scaled_parkinson.target, test_size=0.1)"
   ]
  },
  {
   "cell_type": "code",
   "execution_count": 13,
   "metadata": {},
   "outputs": [
    {
     "name": "stdout",
     "output_type": "stream",
     "text": [
      "Training dataset:\n",
      "parkinson_train.data: (175, 22)\n",
      "parkinson_train.target: (175,)\n"
     ]
    }
   ],
   "source": [
    "print(\"Training dataset:\")\n",
    "print(\"parkinson_train.data:\", parkinson_train.data.shape)\n",
    "print(\"parkinson_train.target:\", parkinson_train.target.shape)"
   ]
  },
  {
   "cell_type": "code",
   "execution_count": 14,
   "metadata": {},
   "outputs": [
    {
     "name": "stdout",
     "output_type": "stream",
     "text": [
      "Testing dataset:\n",
      "parkinson_test.data: (20, 22)\n",
      "parkinson_test.target: (20,)\n"
     ]
    }
   ],
   "source": [
    "print(\"Testing dataset:\")\n",
    "print(\"parkinson_test.data:\", parkinson_test.data.shape)\n",
    "print(\"parkinson_test.target:\", parkinson_test.target.shape)"
   ]
  },
  {
   "attachments": {},
   "cell_type": "markdown",
   "metadata": {},
   "source": [
    "## Incicjacja i trenowanie modelu regresji logistycznej"
   ]
  },
  {
   "cell_type": "code",
   "execution_count": 15,
   "metadata": {},
   "outputs": [
    {
     "data": {
      "text/plain": [
       "LogisticRegression()"
      ]
     },
     "execution_count": 15,
     "metadata": {},
     "output_type": "execute_result"
    }
   ],
   "source": [
    "from sklearn.linear_model import LogisticRegression\n",
    "\n",
    "parkinson_logistic = LogisticRegression()\n",
    "parkinson_logistic.fit(parkinson_train.data, parkinson_train.target)"
   ]
  },
  {
   "cell_type": "code",
   "execution_count": 20,
   "metadata": {},
   "outputs": [],
   "source": [
    "from sklearn.metrics import accuracy_score\n",
    "from sklearn.metrics import mean_squared_error\n",
    "\n",
    "mean_errors = []\n",
    "acc_scores = []\n",
    "iters = []\n",
    "\n",
    "for i in range(100, 100001, 100):\n",
    "    parkinson_l = LogisticRegression(max_iter=i)\n",
    "    parkinson_l.fit(parkinson_train.data, parkinson_train.target)\n",
    "    acc_scores.append(accuracy_score(parkinson_test.target, parkinson_l.predict(parkinson_test.data)))\n",
    "    mean_errors.append(mean_squared_error(parkinson_test.target, parkinson_l.predict(parkinson_test.data)))\n",
    "    iters.append(i)"
   ]
  },
  {
   "cell_type": "code",
   "execution_count": 21,
   "metadata": {},
   "outputs": [
    {
     "data": {
      "text/plain": [
       "Text(0, 0.5, 'Mean squared error')"
      ]
     },
     "execution_count": 21,
     "metadata": {},
     "output_type": "execute_result"
    },
    {
     "data": {
      "image/png": "[encoded data removed]",
      "text/plain": [
       "<Figure size 640x480 with 1 Axes>"
      ]
     },
     "metadata": {},
     "output_type": "display_data"
    }
   ],
   "source": [
    "import matplotlib.pyplot as plt\n",
    "plt.plot(iters,mean_errors)\n",
    "plt.xlabel(\"Iterations\")\n",
    "plt.ylabel(\"Mean squared error\")"
   ]
  },
  {
   "cell_type": "code",
   "execution_count": 22,
   "metadata": {},
   "outputs": [
    {
     "data": {
      "text/plain": [
       "Text(0, 0.5, 'Accuracy')"
      ]
     },
     "execution_count": 22,
     "metadata": {},
     "output_type": "execute_result"
    },
    {
     "data": {
      "image/png": "[encoded data removed]",
      "text/plain": [
       "<Figure size 640x480 with 1 Axes>"
      ]
     },
     "metadata": {},
     "output_type": "display_data"
    }
   ],
   "source": [
    "plt.plot(iters, acc_scores)\n",
    "plt.xlabel(\"Iterations\")\n",
    "plt.ylabel(\"Accuracy\")"
   ]
  },
  {
   "attachments": {},
   "cell_type": "markdown",
   "metadata": {},
   "source": [
    "## Testowanie modelu"
   ]
  },
  {
   "cell_type": "code",
   "execution_count": 463,
   "metadata": {},
   "outputs": [
    {
     "name": "stdout",
     "output_type": "stream",
     "text": [
      "Model predicted for client 16 value [1]\n",
      "Real value for client \"16\" is 1\n"
     ]
    }
   ],
   "source": [
    "id = 15\n",
    "print(\"Model predicted for client {0} value {1}\".format(id+1, parkinson_logistic.predict(parkinson_test.data[id,:].reshape(1,-1))))\n",
    "print(\"Real value for client \\\"{0}\\\" is {1}\".format(id+1, parkinson_test.target[id]))"
   ]
  },
  {
   "cell_type": "code",
   "execution_count": 464,
   "metadata": {},
   "outputs": [
    {
     "name": "stdout",
     "output_type": "stream",
     "text": [
      "Model accuracy is 0.85000\n"
     ]
    }
   ],
   "source": [
    "print(\"Model accuracy is {0:0.5f}\".format(accuracy_score(parkinson_test.target, parkinson_logistic.predict(parkinson_test.data))))"
   ]
  },
  {
   "cell_type": "code",
   "execution_count": 465,
   "metadata": {},
   "outputs": [
    {
     "name": "stdout",
     "output_type": "stream",
     "text": [
      "Mean squared error of a model: 0.15\n"
     ]
    }
   ],
   "source": [
    "mean = mean_squared_error(parkinson_test.target, parkinson_logistic.predict(parkinson_test.data))\n",
    "print(\"Mean squared error of a model: %.2f\" % mean)"
   ]
  },
  {
   "cell_type": "code",
   "execution_count": 466,
   "metadata": {},
   "outputs": [
    {
     "name": "stdout",
     "output_type": "stream",
     "text": [
      "[0.92307692 0.82051282 0.84615385 0.69230769 0.76923077]\n"
     ]
    }
   ],
   "source": [
    "from sklearn.model_selection import cross_val_score\n",
    "\n",
    "scores = cross_val_score(LogisticRegression(),scaled_parkinson.data,parkinson_target, cv=5)\n",
    "print(scores)"
   ]
  },
  {
   "cell_type": "code",
   "execution_count": 467,
   "metadata": {},
   "outputs": [
    {
     "name": "stdout",
     "output_type": "stream",
     "text": [
      "[[ 3  2]\n",
      " [ 1 14]]\n"
     ]
    }
   ],
   "source": [
    "from sklearn.metrics import confusion_matrix\n",
    "\n",
    "print(confusion_matrix(parkinson_test.target, parkinson_logistic.predict(parkinson_test.data)))"
   ]
  },
  {
   "attachments": {},
   "cell_type": "markdown",
   "metadata": {},
   "source": [
    "### Sprawdzenie wpływu PolynomialFeatures na jakość modelu"
   ]
  },
  {
   "cell_type": "code",
   "execution_count": 500,
   "metadata": {},
   "outputs": [],
   "source": [
    "from sklearn.preprocessing import PolynomialFeatures\n",
    "\n",
    "pt = PolynomialFeatures(2)"
   ]
  },
  {
   "cell_type": "code",
   "execution_count": 501,
   "metadata": {},
   "outputs": [
    {
     "name": "stdout",
     "output_type": "stream",
     "text": [
      "(175, 276)\n",
      "(20, 276)\n"
     ]
    }
   ],
   "source": [
    "parkinson_train_poly = pt.fit_transform(parkinson_train.data)\n",
    "print(parkinson_train_poly.shape)\n",
    "\n",
    "parkinson_test_poly = pt.fit_transform(parkinson_test.data)\n",
    "print(parkinson_test_poly.shape)"
   ]
  },
  {
   "cell_type": "code",
   "execution_count": 502,
   "metadata": {},
   "outputs": [
    {
     "data": {
      "text/plain": [
       "LogisticRegression(max_iter=10000)"
      ]
     },
     "execution_count": 502,
     "metadata": {},
     "output_type": "execute_result"
    }
   ],
   "source": [
    "logistic_poly = LogisticRegression(max_iter=10000)\n",
    "logistic_poly.fit(parkinson_train_poly, parkinson_train.target)"
   ]
  },
  {
   "attachments": {},
   "cell_type": "markdown",
   "metadata": {},
   "source": [
    "### Testowanie modelu regresji logistycznej z wykorzystaniem PolynomialFeatures"
   ]
  },
  {
   "cell_type": "code",
   "execution_count": 503,
   "metadata": {},
   "outputs": [
    {
     "name": "stdout",
     "output_type": "stream",
     "text": [
      "Accuracy with polynomial features: 0.95\n"
     ]
    }
   ],
   "source": [
    "print(\"Accuracy with polynomial features: %.2f\" % accuracy_score(parkinson_test.target, logistic_poly.predict(parkinson_test_poly)))"
   ]
  },
  {
   "cell_type": "code",
   "execution_count": 504,
   "metadata": {},
   "outputs": [
    {
     "name": "stdout",
     "output_type": "stream",
     "text": [
      "[0.89795918 0.7755102  0.85714286 0.77083333]\n"
     ]
    }
   ],
   "source": [
    "parkinson_poly_data = pt.fit_transform(scaled_parkinson.data)\n",
    "\n",
    "scores = cross_val_score(LogisticRegression(), parkinson_poly_data, parkinson_target, cv=4)\n",
    "print(scores)"
   ]
  },
  {
   "attachments": {},
   "cell_type": "markdown",
   "metadata": {},
   "source": [
    "### Sprawdzenie jakosci modelu dla roznych stopni wielomianu w PolynomialFeatures"
   ]
  },
  {
   "cell_type": "code",
   "execution_count": 505,
   "metadata": {},
   "outputs": [],
   "source": [
    "mean_errors = []\n",
    "accuracy_scores = []\n",
    "degrees = []"
   ]
  },
  {
   "cell_type": "code",
   "execution_count": 506,
   "metadata": {},
   "outputs": [
    {
     "name": "stderr",
     "output_type": "stream",
     "text": [
      "/usr/local/anaconda3/lib/python3.9/site-packages/sklearn/linear_model/_logistic.py:814: ConvergenceWarning: lbfgs failed to converge (status=2):\n",
      "ABNORMAL_TERMINATION_IN_LNSRCH.\n",
      "\n",
      "Increase the number of iterations (max_iter) or scale the data as shown in:\n",
      "    https://scikit-learn.org/stable/modules/preprocessing.html\n",
      "Please also refer to the documentation for alternative solver options:\n",
      "    https://scikit-learn.org/stable/modules/linear_model.html#logistic-regression\n",
      "  n_iter_i = _check_optimize_result(\n"
     ]
    }
   ],
   "source": [
    "for i in range(2,8):\n",
    "    pt = PolynomialFeatures(i)\n",
    "    parkinson_train_2 = pt.fit_transform(parkinson_train.data)\n",
    "    parkinson_test_2 = pt.fit_transform(parkinson_test.data)\n",
    "    logistic_poly = LogisticRegression(max_iter=1000)\n",
    "    logistic_poly.fit(parkinson_train_2, parkinson_train.target)\n",
    "    accuracy_scores.append(accuracy_score(parkinson_test.target, logistic_poly.predict(parkinson_test_2)))\n",
    "    mean_errors.append(mean_squared_error(parkinson_test.target, logistic_poly.predict(parkinson_test_2)))\n",
    "    degrees.append(i)\n",
    "    "
   ]
  },
  {
   "cell_type": "code",
   "execution_count": 507,
   "metadata": {},
   "outputs": [
    {
     "data": {
      "text/plain": [
       "Text(0, 0.5, 'Mean squared error')"
      ]
     },
     "execution_count": 507,
     "metadata": {},
     "output_type": "execute_result"
    },
    {
     "data": {
      "image/png": "[encoded data removed]",
      "text/plain": [
       "<Figure size 640x480 with 1 Axes>"
      ]
     },
     "metadata": {},
     "output_type": "display_data"
    }
   ],
   "source": [
    "plt.plot(degrees,mean_errors)\n",
    "plt.xlabel(\"Degree\")\n",
    "plt.ylabel(\"Mean squared error\")"
   ]
  },
  {
   "cell_type": "code",
   "execution_count": 508,
   "metadata": {},
   "outputs": [
    {
     "data": {
      "text/plain": [
       "Text(0, 0.5, 'Accuracy')"
      ]
     },
     "execution_count": 508,
     "metadata": {},
     "output_type": "execute_result"
    },
    {
     "data": {
      "image/png": "[encoded data removed]",
      "text/plain": [
       "<Figure size 640x480 with 1 Axes>"
      ]
     },
     "metadata": {},
     "output_type": "display_data"
    }
   ],
   "source": [
    "plt.plot(degrees, accuracy_scores)\n",
    "plt.xlabel(\"Degree\")\n",
    "plt.ylabel(\"Accuracy\")"
   ]
  },
  {
   "attachments": {},
   "cell_type": "markdown",
   "metadata": {},
   "source": [
    "### Sprawdzenie wpływu metody rekursywnej eliminacji cech (RFE)"
   ]
  },
  {
   "cell_type": "code",
   "execution_count": 477,
   "metadata": {},
   "outputs": [
    {
     "data": {
      "text/plain": [
       "RFE(estimator=LogisticRegression(), n_features_to_select=20)"
      ]
     },
     "execution_count": 477,
     "metadata": {},
     "output_type": "execute_result"
    }
   ],
   "source": [
    "from sklearn.feature_selection import RFE\n",
    "\n",
    "rfe = RFE(estimator=LogisticRegression(), n_features_to_select=20)\n",
    "rfe.fit(parkinson_train_poly, parkinson_train.target)"
   ]
  },
  {
   "cell_type": "code",
   "execution_count": 478,
   "metadata": {},
   "outputs": [
    {
     "name": "stdout",
     "output_type": "stream",
     "text": [
      "Mean squared error with RFE: 0.05\n"
     ]
    }
   ],
   "source": [
    "print(\"Mean squared error with RFE: %.2f\" % mean_squared_error(parkinson_test.target, rfe.predict(parkinson_test_poly)))"
   ]
  },
  {
   "cell_type": "code",
   "execution_count": 479,
   "metadata": {},
   "outputs": [
    {
     "name": "stdout",
     "output_type": "stream",
     "text": [
      "Accuracy with RFE: 0.95\n"
     ]
    }
   ],
   "source": [
    "print(\"Accuracy with RFE: %.2f\" % rfe.score(parkinson_test_poly, parkinson_test.target))"
   ]
  },
  {
   "cell_type": "code",
   "execution_count": 494,
   "metadata": {},
   "outputs": [],
   "source": [
    "mean_squared_errors = []\n",
    "accuracy_scores = []\n",
    "numbers = []\n",
    "\n",
    "pt = PolynomialFeatures(3)\n",
    "parkinson_train_logistic_poly = pt.fit_transform(parkinson_train.data)\n",
    "parkinson_test_logistic_poly = pt.fit_transform(parkinson_test.data)"
   ]
  },
  {
   "cell_type": "code",
   "execution_count": 495,
   "metadata": {},
   "outputs": [],
   "source": [
    "for i in range(10, 101, 10):\n",
    "    rfe = RFE(estimator=LogisticRegression(max_iter=1000), n_features_to_select=i)\n",
    "    rfe.fit(parkinson_train_logistic_poly, parkinson_train.target)\n",
    "    mean_squared_errors.append(mean_squared_error(parkinson_test.target, rfe.predict(parkinson_test_logistic_poly)))\n",
    "    accuracy_scores.append(rfe.score(parkinson_test_logistic_poly, parkinson_test.target))\n",
    "    numbers.append(i)"
   ]
  },
  {
   "cell_type": "code",
   "execution_count": 496,
   "metadata": {},
   "outputs": [
    {
     "data": {
      "text/plain": [
       "Text(0, 0.5, 'Mean squared errors')"
      ]
     },
     "execution_count": 496,
     "metadata": {},
     "output_type": "execute_result"
    },
    {
     "data": {
      "image/png": "[encoded data removed]",
      "text/plain": [
       "<Figure size 640x480 with 1 Axes>"
      ]
     },
     "metadata": {},
     "output_type": "display_data"
    }
   ],
   "source": [
    "plt.plot(numbers,mean_squared_errors)\n",
    "plt.xlabel(\"Degree\")\n",
    "plt.ylabel(\"Mean squared errors\")"
   ]
  },
  {
   "cell_type": "code",
   "execution_count": 497,
   "metadata": {},
   "outputs": [
    {
     "data": {
      "text/plain": [
       "Text(0, 0.5, 'Accuracy')"
      ]
     },
     "execution_count": 497,
     "metadata": {},
     "output_type": "execute_result"
    },
    {
     "data": {
      "image/png": "[encoded data removed]",
      "text/plain": [
       "<Figure size 640x480 with 1 Axes>"
      ]
     },
     "metadata": {},
     "output_type": "display_data"
    }
   ],
   "source": [
    "plt.plot(numbers,accuracy_scores)\n",
    "plt.xlabel(\"Degree\")\n",
    "plt.ylabel(\"Accuracy\")"
   ]
  }
 ],
 "metadata": {
  "kernelspec": {
   "display_name": "Python 3.9.13 ('base')",
   "language": "python",
   "name": "python3"
  },
  "language_info": {
   "codemirror_mode": {
    "name": "ipython",
    "version": 3
   },
   "file_extension": ".py",
   "mimetype": "text/x-python",
   "name": "python",
   "nbconvert_exporter": "python",
   "pygments_lexer": "ipython3",
   "version": "3.9.13"
  },
  "orig_nbformat": 4,
  "vscode": {
   "interpreter": {
    "hash": "3067ead486e059ec00ffe7555bdb889e6e264a24dc711bf108106cc7baee8d5d"
   }
  }
 },
 "nbformat": 4,
 "nbformat_minor": 2
}

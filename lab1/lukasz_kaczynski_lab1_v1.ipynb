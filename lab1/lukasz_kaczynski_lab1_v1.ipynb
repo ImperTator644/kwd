{
 "cells": [
  {
   "cell_type": "markdown",
   "metadata": {},
   "source": [
    "# Student:\n",
    "Write Python script to:\n",
    "    \n",
    "    - sort (in decreating order) 1,5,6,10,23,67,2,8 \n",
    "    hint: be smart and lazy. \n",
    "    \n",
    "    - Using dict and list as data structures write a simple address book. \n",
    "    \n",
    "    Student should implenet following functions: 'print_all_contacts', 'add_contact_to_' and 'search_contact_in_'. \n",
    "    \n",
    "    Consider example below to find sample usage of the methods. "
   ]
  },
  {
   "cell_type": "markdown",
   "metadata": {},
   "source": [
    "# 1 sorting"
   ]
  },
  {
   "cell_type": "code",
   "execution_count": 43,
   "metadata": {},
   "outputs": [
    {
     "name": "stdout",
     "output_type": "stream",
     "text": [
      "[67, 23, 10, 8, 6, 5, 2, 1]\n"
     ]
    }
   ],
   "source": [
    "list_temp = [1,5,6,10,23,67,2,8]\n",
    "list_temp.sort(reverse=True)\n",
    "print(list_temp)"
   ]
  },
  {
   "cell_type": "markdown",
   "metadata": {},
   "source": [
    "# 2 address book"
   ]
  },
  {
   "cell_type": "code",
   "execution_count": 44,
   "metadata": {},
   "outputs": [],
   "source": [
    "def print_contact_(contact):\n",
    "    for key, value in contact.items():\n",
    "        print(key,' = ',value)\n",
    "    print()   \n",
    "\n",
    "def print_all_contacts(book):\n",
    "    for contact in book:\n",
    "        print_contact_(contact)\n",
    "\n",
    "def add_contact_to_(book, contact):\n",
    "    book.append(contact)\n",
    "    book.sort\n",
    "\n",
    "def search_contact_in_(book, fragment):\n",
    "    fragment_keys = [*fragment]\n",
    "    for contact in book:\n",
    "        if set(fragment_keys).issubset([*contact]):         # czemu tak nakombinowałem?\n",
    "            for key in fragment_keys:                       # bo nie mam pewnosci ze ktos poda mi dictionary skladajace sie tylko z jednego wpisu\n",
    "                if fragment[key] != contact[key]:           # moze byc albo {\"first_name\": \"Lukasz\"}, mogą byc podane zle klucze,\n",
    "                    break;                                  # albo moze byc podany caly konakt {\"first_name\": \"Lech\", \"last_name\": \"Wałęsa\", \"email\":\"kon.sty.tuc.ja@profesor.pk.edu.pl\"}\n",
    "            else:                                           # i kombinacji robi się w ten sposob duzo\n",
    "                print_contact_(contact) #else w petli for = wykonaj, jesli for przeleci bez wykonania instrukcji wewnątrz"
   ]
  },
  {
   "cell_type": "code",
   "execution_count": 45,
   "metadata": {},
   "outputs": [
    {
     "name": "stdout",
     "output_type": "stream",
     "text": [
      "PRINT ALL\n",
      "first_name  =  Kazimierz\n",
      "last_name  =  Kiełkowicz\n",
      "email  =  kkielkowicz@pk.edu.pl\n",
      "\n",
      "first_name  =  Lukasz\n",
      "last_name  =  Kaczynski\n",
      "email  =  lukasz.kaczynski@student.pk.edu.pl\n",
      "\n",
      "first_name  =  Lech\n",
      "last_name  =  Wałęsa\n",
      "email  =  kon.sty.tuc.ja@profesor.pk.edu.pl\n",
      "\n",
      "______\n",
      "SEARCH CONTACT\n",
      "first_name  =  Kazimierz\n",
      "last_name  =  Kiełkowicz\n",
      "email  =  kkielkowicz@pk.edu.pl\n",
      "\n",
      "first_name  =  Lukasz\n",
      "last_name  =  Kaczynski\n",
      "email  =  lukasz.kaczynski@student.pk.edu.pl\n",
      "\n",
      "first_name  =  Lech\n",
      "last_name  =  Wałęsa\n",
      "email  =  kon.sty.tuc.ja@profesor.pk.edu.pl\n",
      "\n"
     ]
    }
   ],
   "source": [
    "address_book=[]\n",
    "\n",
    "#example contact_ object\n",
    "contact_={\"first_name\": \"Kazimierz\", \"last_name\": \"Kiełkowicz\", \"email\":\"kkielkowicz@pk.edu.pl\"}\n",
    "contact2={\"first_name\": \"Lukasz\", \"last_name\": \"Kaczynski\", \"email\":\"lukasz.kaczynski@student.pk.edu.pl\"}\n",
    "contact3={\"first_name\": \"Lech\", \"last_name\": \"Wałęsa\", \"email\":\"kon.sty.tuc.ja@profesor.pk.edu.pl\"}\n",
    "\n",
    "#implement method \"add_contact_to_\" that takes address_book object as \n",
    "# an arguemnt and contact_ and append contact_ to address_book object\n",
    "add_contact_to_(address_book, contact_) #should add contact to address book\n",
    "add_contact_to_(address_book, contact2)\n",
    "add_contact_to_(address_book, contact3)\n",
    "\n",
    "print(\"PRINT ALL\")\n",
    "print_all_contacts(address_book)\n",
    "print(\"______\\nSEARCH CONTACT\")\n",
    "\n",
    "search_contact_in_(address_book, {\"first_name\": \"Kazimierz\", \"last_name\": \"Kiełkowicz\", \"email\":\"kkielkowicz@pk.edu.pl\"}) # should return full contact information\n",
    "search_contact_in_(address_book, {\"last_name\": \"Kaczynski\"}) # should return full contact information\n",
    "search_contact_in_(address_book, {\"last_name\": \"Wałęsa\"})"
   ]
  }
 ],
 "metadata": {
  "kernelspec": {
   "display_name": "Python 3.9.13 ('base')",
   "language": "python",
   "name": "python3"
  },
  "language_info": {
   "codemirror_mode": {
    "name": "ipython",
    "version": 3
   },
   "file_extension": ".py",
   "mimetype": "text/x-python",
   "name": "python",
   "nbconvert_exporter": "python",
   "pygments_lexer": "ipython3",
   "version": "3.9.13"
  },
  "orig_nbformat": 4,
  "vscode": {
   "interpreter": {
    "hash": "3067ead486e059ec00ffe7555bdb889e6e264a24dc711bf108106cc7baee8d5d"
   }
  }
 },
 "nbformat": 4,
 "nbformat_minor": 2
}

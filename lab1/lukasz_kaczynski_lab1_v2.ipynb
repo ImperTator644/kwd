{
 "cells": [
  {
   "cell_type": "markdown",
   "metadata": {},
   "source": [
    "## Student exercise\n",
    "\n",
    "Define a class *Rocket* with *name* and *fule* attributes. Class Rocket should inherit from class *Position*. Class *Position* should have *position_x* and *position_y* fields and printing methods. \n",
    "\n",
    "Class *Rocket* should also have methods to move rocket and print rocket position and fule level. Each move should decrease rocket fuel level by 1. \n",
    "\n",
    "Initialize a collection of Rockets and iterate over it moving them around. Each instance of a Rocket should be initialize with different fuel level and explode when fuel level is below 0."
   ]
  },
  {
   "cell_type": "code",
   "execution_count": 37,
   "metadata": {},
   "outputs": [
    {
     "name": "stdout",
     "output_type": "stream",
     "text": [
      "(X = 0, Y = 0)\n",
      "(X = 20, Y = 60)\n"
     ]
    }
   ],
   "source": [
    "from random import randrange\n",
    "\n",
    "\n",
    "class Position():\n",
    "    def __init__(self, position_x=0, position_y=0):\n",
    "        self.position_x = position_x\n",
    "        self.position_y = position_y\n",
    "    \n",
    "    def __str__(self):\n",
    "        return \"(X = \" + str(self.position_x) + \", Y = \" + str(self.position_y) + \")\"\n",
    "\n",
    "    def change_x_(self, x):\n",
    "        self.position_x += x\n",
    "\n",
    "    def change_y_(self, y):\n",
    "        self.position_y += y\n",
    "\n",
    "position = Position()\n",
    "print(position)\n",
    "\n",
    "position_2 = Position(randrange(99), randrange(99))\n",
    "print(position_2)"
   ]
  },
  {
   "cell_type": "code",
   "execution_count": 44,
   "metadata": {},
   "outputs": [],
   "source": [
    "import math\n",
    "\n",
    "class Rocket(Position):\n",
    "    def __init__(self, name, fuel=50):\n",
    "        super().__init__()\n",
    "        self.name = name\n",
    "        self.fuel = fuel\n",
    "        self.exploded = False\n",
    "\n",
    "    def decrease_fuel_(self, x, y):\n",
    "        self.fuel -= math.sqrt(x ** 2 + y ** 2) // 1    #nie zmniejsza o 1, bo to by bylo bez sensu gdyby kazda trasa zmniejszala fuel tylko o 1\n",
    "\n",
    "    def explode_(self):\n",
    "        print(\"%s rocket EXPLODED\" % (self.name))\n",
    "        self.exploded = True\n",
    "\n",
    "    def move_rocket_(self, x, y):\n",
    "        if not self.exploded:\n",
    "            print(\"Making move x = %s, y = %s\" % (x,y))\n",
    "            super().change_x_(x)\n",
    "            super().change_y_(y)\n",
    "            self.decrease_fuel_(x,y)\n",
    "            if self.fuel <= 0:\n",
    "                self.fuel = 0\n",
    "                self.explode_()\n",
    "        else:\n",
    "            print(\"%s rocket already EXPLODED\" % (self.name))\n",
    "    \n",
    "    def __str__(self):\n",
    "        string = super().__str__()\n",
    "        return \"name = \" + self.name + \"\\nfuel = \" + str(self.fuel) + \"\\nposition = \" + string\n",
    "    \n"
   ]
  },
  {
   "cell_type": "code",
   "execution_count": 46,
   "metadata": {},
   "outputs": [
    {
     "name": "stdout",
     "output_type": "stream",
     "text": [
      "Making move x = 3, y = -3\n",
      "name = Saturn V\n",
      "fuel = 26.0\n",
      "position = (X = 3, Y = -3)\n",
      "\n",
      "Making move x = 2, y = -1\n",
      "name = Falcon Heavy\n",
      "fuel = 48.0\n",
      "position = (X = 2, Y = -1)\n",
      "\n",
      "Making move x = -4, y = 2\n",
      "name = Starship\n",
      "fuel = 11.0\n",
      "position = (X = -4, Y = 2)\n",
      "\n",
      "Making move x = 2, y = -5\n",
      "name = Saturn V\n",
      "fuel = 21.0\n",
      "position = (X = 5, Y = -8)\n",
      "\n",
      "Making move x = 0, y = -1\n",
      "name = Falcon Heavy\n",
      "fuel = 47.0\n",
      "position = (X = 2, Y = -2)\n",
      "\n",
      "Making move x = -3, y = 3\n",
      "name = Starship\n",
      "fuel = 7.0\n",
      "position = (X = -7, Y = 5)\n",
      "\n",
      "Making move x = -1, y = 1\n",
      "name = Saturn V\n",
      "fuel = 20.0\n",
      "position = (X = 4, Y = -7)\n",
      "\n",
      "Making move x = -2, y = 2\n",
      "name = Falcon Heavy\n",
      "fuel = 45.0\n",
      "position = (X = 0, Y = 0)\n",
      "\n",
      "Making move x = 4, y = 4\n",
      "name = Starship\n",
      "fuel = 2.0\n",
      "position = (X = -3, Y = 9)\n",
      "\n",
      "Making move x = -1, y = -2\n",
      "name = Saturn V\n",
      "fuel = 18.0\n",
      "position = (X = 3, Y = -9)\n",
      "\n",
      "Making move x = 1, y = 0\n",
      "name = Falcon Heavy\n",
      "fuel = 44.0\n",
      "position = (X = 1, Y = 0)\n",
      "\n",
      "Making move x = 4, y = 2\n",
      "Starship rocket EXPLODED\n",
      "name = Starship\n",
      "fuel = 0\n",
      "position = (X = 1, Y = 11)\n",
      "\n"
     ]
    }
   ],
   "source": [
    "saturn_V = Rocket(\"Saturn V\", 30)\n",
    "falcon_heavy = Rocket(\"Falcon Heavy\")\n",
    "starship = Rocket(\"Starship\", 15)\n",
    "\n",
    "rockets = [saturn_V, falcon_heavy, starship]\n",
    "\n",
    "while (not saturn_V.exploded) and (not falcon_heavy.exploded) and (not starship.exploded):\n",
    "    for rocket in rockets:\n",
    "        rocket.move_rocket_(randrange(-5, 5), randrange(-5, 5))\n",
    "        print(rocket)\n",
    "        print()"
   ]
  }
 ],
 "metadata": {
  "kernelspec": {
   "display_name": "Python 3 (ipykernel)",
   "language": "python",
   "name": "python3"
  },
  "language_info": {
   "codemirror_mode": {
    "name": "ipython",
    "version": 3
   },
   "file_extension": ".py",
   "mimetype": "text/x-python",
   "name": "python",
   "nbconvert_exporter": "python",
   "pygments_lexer": "ipython3",
   "version": "3.9.13"
  },
  "orig_nbformat": 4
 },
 "nbformat": 4,
 "nbformat_minor": 2
}

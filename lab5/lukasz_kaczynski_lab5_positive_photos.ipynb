{
 "cells": [
  {
   "attachments": {},
   "cell_type": "markdown",
   "metadata": {},
   "source": [
    "### Usunięcie niepotrzebnych warningów"
   ]
  },
  {
   "cell_type": "code",
   "execution_count": 2,
   "metadata": {},
   "outputs": [],
   "source": [
    "import warnings\n",
    "warnings.filterwarnings('ignore')"
   ]
  },
  {
   "attachments": {},
   "cell_type": "markdown",
   "metadata": {},
   "source": [
    "### Załadowanie danych \"Fashion-MNIST\""
   ]
  },
  {
   "cell_type": "code",
   "execution_count": 3,
   "metadata": {},
   "outputs": [],
   "source": [
    "class DataSet:\n",
    "    def __init__(self, data = None, target = None):\n",
    "        self.data = data\n",
    "        self.target = target"
   ]
  },
  {
   "cell_type": "code",
   "execution_count": 4,
   "metadata": {},
   "outputs": [],
   "source": [
    "from keras.datasets import fashion_mnist\n",
    "\n",
    "fashion_train = DataSet()\n",
    "fashion_test = DataSet()\n",
    "\n",
    "(x_train, fashion_train.target), (x_test, fashion_test.target) = fashion_mnist.load_data()"
   ]
  },
  {
   "cell_type": "code",
   "execution_count": 5,
   "metadata": {},
   "outputs": [],
   "source": [
    "images_train = []\n",
    "for image_train in x_train:\n",
    "    images_train.append(255 - image_train.flatten())\n",
    "\n",
    "images_test = []\n",
    "for image_test in x_test:\n",
    "    images_test.append(255 - image_test.flatten())"
   ]
  },
  {
   "cell_type": "code",
   "execution_count": 6,
   "metadata": {},
   "outputs": [],
   "source": [
    "import numpy as np"
   ]
  },
  {
   "cell_type": "code",
   "execution_count": 7,
   "metadata": {},
   "outputs": [],
   "source": [
    "fashion_train.data = np.array(images_train)\n",
    "fashion_test.data = np.array(images_test)"
   ]
  },
  {
   "cell_type": "code",
   "execution_count": 8,
   "metadata": {},
   "outputs": [
    {
     "name": "stdout",
     "output_type": "stream",
     "text": [
      "TRAIN SET: \n",
      "(60000, 784)\n",
      "(60000,)\n",
      "\n",
      "TEST SET: \n",
      "(10000, 784)\n",
      "(10000,)\n"
     ]
    }
   ],
   "source": [
    "print(\"TRAIN SET: \")\n",
    "print(fashion_train.data.shape)\n",
    "print(fashion_train.target.shape)\n",
    "\n",
    "print(\"\\nTEST SET: \")\n",
    "print(fashion_test.data.shape)\n",
    "print(fashion_test.target.shape)"
   ]
  },
  {
   "attachments": {},
   "cell_type": "markdown",
   "metadata": {},
   "source": [
    "### Trenowanie modelu LogisticRegression z OneVsResrClassifier"
   ]
  },
  {
   "cell_type": "code",
   "execution_count": 9,
   "metadata": {},
   "outputs": [],
   "source": [
    "from sklearn.linear_model import LogisticRegression\n",
    "from sklearn.multiclass import OneVsRestClassifier"
   ]
  },
  {
   "cell_type": "code",
   "execution_count": 10,
   "metadata": {},
   "outputs": [
    {
     "name": "stderr",
     "output_type": "stream",
     "text": [
      "[Parallel(n_jobs=1)]: Using backend SequentialBackend with 1 concurrent workers.\n"
     ]
    },
    {
     "name": "stdout",
     "output_type": "stream",
     "text": [
      "RUNNING THE L-BFGS-B CODE\n",
      "\n",
      "           * * *\n",
      "\n",
      "Machine precision = 2.220D-16\n",
      " N =          785     M =           10\n",
      "\n",
      "At X0         0 variables are exactly at the bounds\n"
     ]
    },
    {
     "name": "stderr",
     "output_type": "stream",
     "text": [
      " This problem is unconstrained.\n"
     ]
    },
    {
     "name": "stdout",
     "output_type": "stream",
     "text": [
      "\n",
      "At iterate    0    f=  4.15888D+04    |proj g|=  6.11998D+06\n",
      "\n",
      "           * * *\n",
      "\n",
      "Tit   = total number of iterations\n",
      "Tnf   = total number of function evaluations\n",
      "Tnint = total number of segments explored during Cauchy searches\n",
      "Skip  = number of BFGS updates skipped\n",
      "Nact  = number of active bounds at final generalized Cauchy point\n",
      "Projg = norm of the final projected gradient\n",
      "F     = final function value\n",
      "\n",
      "           * * *\n",
      "\n",
      "   N    Tit     Tnf  Tnint  Skip  Nact     Projg        F\n",
      "  785     10     20      1     0     0   8.133D+04   7.314D+03\n",
      "  F =   7313.5561742861482     \n",
      "\n",
      "STOP: TOTAL NO. of ITERATIONS REACHED LIMIT                 \n"
     ]
    },
    {
     "name": "stderr",
     "output_type": "stream",
     "text": [
      "[Parallel(n_jobs=1)]: Done   1 out of   1 | elapsed:    3.9s finished\n",
      "[Parallel(n_jobs=1)]: Using backend SequentialBackend with 1 concurrent workers.\n",
      " This problem is unconstrained.\n"
     ]
    },
    {
     "name": "stdout",
     "output_type": "stream",
     "text": [
      "RUNNING THE L-BFGS-B CODE\n",
      "\n",
      "           * * *\n",
      "\n",
      "Machine precision = 2.220D-16\n",
      " N =          785     M =           10\n",
      "\n",
      "At X0         0 variables are exactly at the bounds\n",
      "\n",
      "At iterate    0    f=  4.15888D+04    |proj g|=  6.11998D+06\n",
      "\n",
      "           * * *\n",
      "\n",
      "Tit   = total number of iterations\n",
      "Tnf   = total number of function evaluations\n",
      "Tnint = total number of segments explored during Cauchy searches\n",
      "Skip  = number of BFGS updates skipped\n",
      "Nact  = number of active bounds at final generalized Cauchy point\n",
      "Projg = norm of the final projected gradient\n",
      "F     = final function value\n",
      "\n",
      "           * * *\n",
      "\n",
      "   N    Tit     Tnf  Tnint  Skip  Nact     Projg        F\n",
      "  785     10     18      1     0     0   1.166D+05   3.543D+03\n",
      "  F =   3542.9092069993826     \n",
      "\n",
      "STOP: TOTAL NO. of ITERATIONS REACHED LIMIT                 \n",
      "RUNNING THE L-BFGS-B CODE\n",
      "\n",
      "           * * *\n",
      "\n",
      "Machine precision = 2.220D-16\n",
      " N =          785     M =           10\n",
      "\n",
      "At X0         0 variables are exactly at the bounds\n",
      "\n",
      "At iterate    0    f=  4.15888D+04    |proj g|=  6.11998D+06\n"
     ]
    },
    {
     "name": "stderr",
     "output_type": "stream",
     "text": [
      "[Parallel(n_jobs=1)]: Done   1 out of   1 | elapsed:    1.0s finished\n",
      "[Parallel(n_jobs=1)]: Using backend SequentialBackend with 1 concurrent workers.\n",
      " This problem is unconstrained.\n"
     ]
    },
    {
     "name": "stdout",
     "output_type": "stream",
     "text": [
      "\n",
      "           * * *\n",
      "\n",
      "Tit   = total number of iterations\n",
      "Tnf   = total number of function evaluations\n",
      "Tnint = total number of segments explored during Cauchy searches\n",
      "Skip  = number of BFGS updates skipped\n",
      "Nact  = number of active bounds at final generalized Cauchy point\n",
      "Projg = norm of the final projected gradient\n",
      "F     = final function value\n",
      "\n",
      "           * * *\n",
      "\n",
      "   N    Tit     Tnf  Tnint  Skip  Nact     Projg        F\n",
      "  785     10     20      1     0     0   1.263D+05   1.149D+04\n",
      "  F =   11485.289219594300     \n",
      "\n",
      "STOP: TOTAL NO. of ITERATIONS REACHED LIMIT                 \n",
      "RUNNING THE L-BFGS-B CODE\n",
      "\n",
      "           * * *\n",
      "\n",
      "Machine precision = 2.220D-16\n",
      " N =          785     M =           10\n",
      "\n",
      "At X0         0 variables are exactly at the bounds\n",
      "\n",
      "At iterate    0    f=  4.15888D+04    |proj g|=  6.11999D+06\n"
     ]
    },
    {
     "name": "stderr",
     "output_type": "stream",
     "text": [
      "[Parallel(n_jobs=1)]: Done   1 out of   1 | elapsed:    1.1s finished\n",
      "[Parallel(n_jobs=1)]: Using backend SequentialBackend with 1 concurrent workers.\n",
      " This problem is unconstrained.\n"
     ]
    },
    {
     "name": "stdout",
     "output_type": "stream",
     "text": [
      "\n",
      "           * * *\n",
      "\n",
      "Tit   = total number of iterations\n",
      "Tnf   = total number of function evaluations\n",
      "Tnint = total number of segments explored during Cauchy searches\n",
      "Skip  = number of BFGS updates skipped\n",
      "Nact  = number of active bounds at final generalized Cauchy point\n",
      "Projg = norm of the final projected gradient\n",
      "F     = final function value\n",
      "\n",
      "           * * *\n",
      "\n",
      "   N    Tit     Tnf  Tnint  Skip  Nact     Projg        F\n",
      "  785     10     20      1     0     0   5.954D+04   6.789D+03\n",
      "  F =   6788.6809691797971     \n",
      "\n",
      "STOP: TOTAL NO. of ITERATIONS REACHED LIMIT                 \n",
      "RUNNING THE L-BFGS-B CODE\n",
      "\n",
      "           * * *\n",
      "\n",
      "Machine precision = 2.220D-16\n",
      " N =          785     M =           10\n",
      "\n",
      "At X0         0 variables are exactly at the bounds\n",
      "\n",
      "At iterate    0    f=  4.15888D+04    |proj g|=  6.11998D+06\n"
     ]
    },
    {
     "name": "stderr",
     "output_type": "stream",
     "text": [
      "[Parallel(n_jobs=1)]: Done   1 out of   1 | elapsed:    1.1s finished\n",
      "[Parallel(n_jobs=1)]: Using backend SequentialBackend with 1 concurrent workers.\n",
      " This problem is unconstrained.\n"
     ]
    },
    {
     "name": "stdout",
     "output_type": "stream",
     "text": [
      "\n",
      "           * * *\n",
      "\n",
      "Tit   = total number of iterations\n",
      "Tnf   = total number of function evaluations\n",
      "Tnint = total number of segments explored during Cauchy searches\n",
      "Skip  = number of BFGS updates skipped\n",
      "Nact  = number of active bounds at final generalized Cauchy point\n",
      "Projg = norm of the final projected gradient\n",
      "F     = final function value\n",
      "\n",
      "           * * *\n",
      "\n",
      "   N    Tit     Tnf  Tnint  Skip  Nact     Projg        F\n",
      "  785     10     20      1     0     0   1.984D+05   1.116D+04\n",
      "  F =   11159.276460091336     \n",
      "\n",
      "STOP: TOTAL NO. of ITERATIONS REACHED LIMIT                 \n",
      "RUNNING THE L-BFGS-B CODE\n",
      "\n",
      "           * * *\n",
      "\n",
      "Machine precision = 2.220D-16\n",
      " N =          785     M =           10\n",
      "\n",
      "At X0         0 variables are exactly at the bounds\n",
      "\n",
      "At iterate    0    f=  4.15888D+04    |proj g|=  6.11998D+06\n"
     ]
    },
    {
     "name": "stderr",
     "output_type": "stream",
     "text": [
      "[Parallel(n_jobs=1)]: Done   1 out of   1 | elapsed:    1.0s finished\n",
      "[Parallel(n_jobs=1)]: Using backend SequentialBackend with 1 concurrent workers.\n",
      " This problem is unconstrained.\n"
     ]
    },
    {
     "name": "stdout",
     "output_type": "stream",
     "text": [
      "\n",
      "           * * *\n",
      "\n",
      "Tit   = total number of iterations\n",
      "Tnf   = total number of function evaluations\n",
      "Tnint = total number of segments explored during Cauchy searches\n",
      "Skip  = number of BFGS updates skipped\n",
      "Nact  = number of active bounds at final generalized Cauchy point\n",
      "Projg = norm of the final projected gradient\n",
      "F     = final function value\n",
      "\n",
      "           * * *\n",
      "\n",
      "   N    Tit     Tnf  Tnint  Skip  Nact     Projg        F\n",
      "  785     10     18      1     0     0   1.046D+05   7.912D+03\n",
      "  F =   7912.1530687040495     \n",
      "\n",
      "STOP: TOTAL NO. of ITERATIONS REACHED LIMIT                 \n",
      "RUNNING THE L-BFGS-B CODE\n",
      "\n",
      "           * * *\n",
      "\n",
      "Machine precision = 2.220D-16\n",
      " N =          785     M =           10\n",
      "\n",
      "At X0         0 variables are exactly at the bounds\n",
      "\n",
      "At iterate    0    f=  4.15888D+04    |proj g|=  6.12000D+06\n"
     ]
    },
    {
     "name": "stderr",
     "output_type": "stream",
     "text": [
      "[Parallel(n_jobs=1)]: Done   1 out of   1 | elapsed:    0.9s finished\n",
      "[Parallel(n_jobs=1)]: Using backend SequentialBackend with 1 concurrent workers.\n",
      " This problem is unconstrained.\n"
     ]
    },
    {
     "name": "stdout",
     "output_type": "stream",
     "text": [
      "\n",
      "           * * *\n",
      "\n",
      "Tit   = total number of iterations\n",
      "Tnf   = total number of function evaluations\n",
      "Tnint = total number of segments explored during Cauchy searches\n",
      "Skip  = number of BFGS updates skipped\n",
      "Nact  = number of active bounds at final generalized Cauchy point\n",
      "Projg = norm of the final projected gradient\n",
      "F     = final function value\n",
      "\n",
      "           * * *\n",
      "\n",
      "   N    Tit     Tnf  Tnint  Skip  Nact     Projg        F\n",
      "  785     10     19      1     0     0   1.497D+05   1.351D+04\n",
      "  F =   13510.953143873889     \n",
      "\n",
      "STOP: TOTAL NO. of ITERATIONS REACHED LIMIT                 \n",
      "RUNNING THE L-BFGS-B CODE\n",
      "\n",
      "           * * *\n",
      "\n",
      "Machine precision = 2.220D-16\n",
      " N =          785     M =           10\n",
      "\n",
      "At X0         0 variables are exactly at the bounds\n",
      "\n",
      "At iterate    0    f=  4.15888D+04    |proj g|=  6.11998D+06\n"
     ]
    },
    {
     "name": "stderr",
     "output_type": "stream",
     "text": [
      "[Parallel(n_jobs=1)]: Done   1 out of   1 | elapsed:    1.0s finished\n",
      "[Parallel(n_jobs=1)]: Using backend SequentialBackend with 1 concurrent workers.\n",
      " This problem is unconstrained.\n"
     ]
    },
    {
     "name": "stdout",
     "output_type": "stream",
     "text": [
      "\n",
      "           * * *\n",
      "\n",
      "Tit   = total number of iterations\n",
      "Tnf   = total number of function evaluations\n",
      "Tnint = total number of segments explored during Cauchy searches\n",
      "Skip  = number of BFGS updates skipped\n",
      "Nact  = number of active bounds at final generalized Cauchy point\n",
      "Projg = norm of the final projected gradient\n",
      "F     = final function value\n",
      "\n",
      "           * * *\n",
      "\n",
      "   N    Tit     Tnf  Tnint  Skip  Nact     Projg        F\n",
      "  785     10     18      1     0     0   1.145D+05   6.855D+03\n",
      "  F =   6855.2080162072498     \n",
      "\n",
      "STOP: TOTAL NO. of ITERATIONS REACHED LIMIT                 \n",
      "RUNNING THE L-BFGS-B CODE\n",
      "\n",
      "           * * *\n",
      "\n",
      "Machine precision = 2.220D-16\n",
      " N =          785     M =           10\n",
      "\n",
      "At X0         0 variables are exactly at the bounds\n",
      "\n",
      "At iterate    0    f=  4.15888D+04    |proj g|=  6.28436D+06\n"
     ]
    },
    {
     "name": "stderr",
     "output_type": "stream",
     "text": [
      "[Parallel(n_jobs=1)]: Done   1 out of   1 | elapsed:    1.0s finished\n",
      "[Parallel(n_jobs=1)]: Using backend SequentialBackend with 1 concurrent workers.\n",
      " This problem is unconstrained.\n"
     ]
    },
    {
     "name": "stdout",
     "output_type": "stream",
     "text": [
      "\n",
      "           * * *\n",
      "\n",
      "Tit   = total number of iterations\n",
      "Tnf   = total number of function evaluations\n",
      "Tnint = total number of segments explored during Cauchy searches\n",
      "Skip  = number of BFGS updates skipped\n",
      "Nact  = number of active bounds at final generalized Cauchy point\n",
      "Projg = norm of the final projected gradient\n",
      "F     = final function value\n",
      "\n",
      "           * * *\n",
      "\n",
      "   N    Tit     Tnf  Tnint  Skip  Nact     Projg        F\n",
      "  785     10     20      1     0     0   1.570D+05   5.612D+03\n",
      "  F =   5612.0120147821390     \n",
      "\n",
      "STOP: TOTAL NO. of ITERATIONS REACHED LIMIT                 \n",
      "RUNNING THE L-BFGS-B CODE\n",
      "\n",
      "           * * *\n",
      "\n",
      "Machine precision = 2.220D-16\n",
      " N =          785     M =           10\n",
      "\n",
      "At X0         0 variables are exactly at the bounds\n",
      "\n",
      "At iterate    0    f=  4.15888D+04    |proj g|=  6.16144D+06\n"
     ]
    },
    {
     "name": "stderr",
     "output_type": "stream",
     "text": [
      "[Parallel(n_jobs=1)]: Done   1 out of   1 | elapsed:    1.1s finished\n",
      "[Parallel(n_jobs=1)]: Using backend SequentialBackend with 1 concurrent workers.\n",
      " This problem is unconstrained.\n"
     ]
    },
    {
     "name": "stdout",
     "output_type": "stream",
     "text": [
      "\n",
      "           * * *\n",
      "\n",
      "Tit   = total number of iterations\n",
      "Tnf   = total number of function evaluations\n",
      "Tnint = total number of segments explored during Cauchy searches\n",
      "Skip  = number of BFGS updates skipped\n",
      "Nact  = number of active bounds at final generalized Cauchy point\n",
      "Projg = norm of the final projected gradient\n",
      "F     = final function value\n",
      "\n",
      "           * * *\n",
      "\n",
      "   N    Tit     Tnf  Tnint  Skip  Nact     Projg        F\n",
      "  785     10     19      1     0     0   4.260D+04   3.497D+03\n",
      "  F =   3496.7021082538663     \n",
      "\n",
      "STOP: TOTAL NO. of ITERATIONS REACHED LIMIT                 \n"
     ]
    },
    {
     "name": "stderr",
     "output_type": "stream",
     "text": [
      "[Parallel(n_jobs=1)]: Done   1 out of   1 | elapsed:    1.0s finished\n"
     ]
    },
    {
     "data": {
      "text/plain": [
       "OneVsRestClassifier(estimator=LogisticRegression(max_iter=10, verbose=1))"
      ]
     },
     "execution_count": 10,
     "metadata": {},
     "output_type": "execute_result"
    }
   ],
   "source": [
    "fashion_classifier = OneVsRestClassifier(LogisticRegression(verbose=1, max_iter=10))\n",
    "\n",
    "fashion_classifier.fit(fashion_train.data, fashion_train.target)"
   ]
  },
  {
   "attachments": {},
   "cell_type": "markdown",
   "metadata": {},
   "source": [
    "### Zapis modelu do pliku"
   ]
  },
  {
   "cell_type": "code",
   "execution_count": 11,
   "metadata": {},
   "outputs": [],
   "source": [
    "import pickle\n",
    "pickle.dump(fashion_classifier, open('fashion_classifier.model', 'wb'))"
   ]
  },
  {
   "attachments": {},
   "cell_type": "markdown",
   "metadata": {},
   "source": [
    "### Sprawdzenie jakości modelu za pomocą macierzy konfuzji"
   ]
  },
  {
   "cell_type": "code",
   "execution_count": 12,
   "metadata": {},
   "outputs": [],
   "source": [
    "from sklearn.metrics import confusion_matrix"
   ]
  },
  {
   "cell_type": "code",
   "execution_count": 13,
   "metadata": {},
   "outputs": [
    {
     "name": "stdout",
     "output_type": "stream",
     "text": [
      "Confusion matrix for 10 iterations: \n",
      "[[797   3   8  88   8  20  56   1  18   1]\n",
      " [ 20 905  13  45  12   1   3   0   1   0]\n",
      " [ 31   1 552  11 174  21 192   0  18   0]\n",
      " [ 49  15   3 839  25   4  59   0   6   0]\n",
      " [  5   6 181  53 576   9 148   0  22   0]\n",
      " [  0   1   0   4   0 781   0 144  12  58]\n",
      " [219   3 101  60 125  38 409   0  45   0]\n",
      " [  0   0   0   0   0 101   0 813   0  86]\n",
      " [  7   1  14  33   3  40  11  21 868   2]\n",
      " [  0   0   0   0   0  38   0  52   2 908]]\n"
     ]
    }
   ],
   "source": [
    "conf_matrix = confusion_matrix(fashion_test.target, fashion_classifier.predict(fashion_test.data))\n",
    "print('Confusion matrix for 10 iterations: ')\n",
    "print(conf_matrix)"
   ]
  },
  {
   "cell_type": "code",
   "execution_count": 14,
   "metadata": {},
   "outputs": [
    {
     "data": {
      "text/plain": [
       "<AxesSubplot:>"
      ]
     },
     "execution_count": 14,
     "metadata": {},
     "output_type": "execute_result"
    },
    {
     "data": {
      "image/png": "[encoded data removed]",
      "text/plain": [
       "<Figure size 640x480 with 2 Axes>"
      ]
     },
     "metadata": {},
     "output_type": "display_data"
    }
   ],
   "source": [
    "import seaborn as sns\n",
    "sns.heatmap(conf_matrix)"
   ]
  },
  {
   "cell_type": "code",
   "execution_count": 15,
   "metadata": {},
   "outputs": [
    {
     "data": {
      "text/plain": [
       "0.7448"
      ]
     },
     "execution_count": 15,
     "metadata": {},
     "output_type": "execute_result"
    }
   ],
   "source": [
    "fashion_classifier.score(fashion_test.data, fashion_test.target)"
   ]
  },
  {
   "attachments": {},
   "cell_type": "markdown",
   "metadata": {},
   "source": [
    "### Rozłozenia prawdopodobieństwa wśród wielu klas przy uzyciu jednego klasyfikatora"
   ]
  },
  {
   "cell_type": "code",
   "execution_count": 16,
   "metadata": {},
   "outputs": [
    {
     "name": "stderr",
     "output_type": "stream",
     "text": [
      "[Parallel(n_jobs=1)]: Using backend SequentialBackend with 1 concurrent workers.\n"
     ]
    },
    {
     "name": "stdout",
     "output_type": "stream",
     "text": [
      "Epoch 1, change: 1.00000000\n",
      "Epoch 2, change: 0.20599893\n",
      "Epoch 3, change: 0.14134932\n",
      "Epoch 4, change: 0.10964387\n",
      "Epoch 5, change: 0.08965611\n",
      "Epoch 6, change: 0.08039538\n",
      "Epoch 7, change: 0.08235022\n",
      "Epoch 8, change: 0.07809470\n",
      "Epoch 9, change: 0.07247917\n",
      "max_iter reached after 15 secondsEpoch 10, change: 0.06708279\n",
      "\n"
     ]
    },
    {
     "name": "stderr",
     "output_type": "stream",
     "text": [
      "[Parallel(n_jobs=1)]: Done   1 out of   1 | elapsed:   14.7s finished\n"
     ]
    },
    {
     "data": {
      "text/plain": [
       "LogisticRegression(max_iter=10, multi_class='multinomial', solver='sag',\n",
       "                   verbose=1)"
      ]
     },
     "execution_count": 16,
     "metadata": {},
     "output_type": "execute_result"
    }
   ],
   "source": [
    "fashion_multi_classfier = LogisticRegression(verbose=1, max_iter=10, multi_class=\"multinomial\", solver=\"sag\")\n",
    "\n",
    "fashion_multi_classfier.fit(fashion_train.data, fashion_train.target)\n"
   ]
  },
  {
   "attachments": {},
   "cell_type": "markdown",
   "metadata": {},
   "source": [
    "### Zapis modelu do pliku"
   ]
  },
  {
   "cell_type": "code",
   "execution_count": 17,
   "metadata": {},
   "outputs": [],
   "source": [
    "pickle.dump(fashion_multi_classfier, open('fashion_multi_classifier.model', 'wb'))"
   ]
  },
  {
   "attachments": {},
   "cell_type": "markdown",
   "metadata": {},
   "source": [
    "### Sprawdzenie jakości modelu za pomocą macierzy konfuzji"
   ]
  },
  {
   "cell_type": "code",
   "execution_count": 18,
   "metadata": {},
   "outputs": [
    {
     "name": "stdout",
     "output_type": "stream",
     "text": [
      "Confusion matrix for 10 iterations: \n",
      "[[859   0  12  60   8   1  42   1  17   0]\n",
      " [  5 959   2  26   5   0   1   0   2   0]\n",
      " [ 28   4 732  19 142   0  56   0  19   0]\n",
      " [ 30  14  11 888  31   0  15   0  11   0]\n",
      " [  1   2 113  41 789   0  43   0  11   0]\n",
      " [  0   0   0   0   0 932   0  42   8  18]\n",
      " [190   2 134  64 141   1 428   0  40   0]\n",
      " [  0   0   0   0   0  42   0 928   0  30]\n",
      " [  4   1   5  13   4   4   9   5 955   0]\n",
      " [  0   1   0   0   0  18   0  41   2 938]]\n"
     ]
    }
   ],
   "source": [
    "conf_matrix = confusion_matrix(fashion_test.target, fashion_multi_classfier.predict(fashion_test.data))\n",
    "\n",
    "print(\"Confusion matrix for 10 iterations: \")\n",
    "print(conf_matrix)"
   ]
  },
  {
   "cell_type": "code",
   "execution_count": 19,
   "metadata": {},
   "outputs": [
    {
     "data": {
      "text/plain": [
       "<AxesSubplot:>"
      ]
     },
     "execution_count": 19,
     "metadata": {},
     "output_type": "execute_result"
    },
    {
     "data": {
      "image/png": "[encoded data removed]",
      "text/plain": [
       "<Figure size 640x480 with 2 Axes>"
      ]
     },
     "metadata": {},
     "output_type": "display_data"
    }
   ],
   "source": [
    "sns.heatmap(conf_matrix)"
   ]
  },
  {
   "cell_type": "code",
   "execution_count": 20,
   "metadata": {},
   "outputs": [
    {
     "data": {
      "text/plain": [
       "0.8408"
      ]
     },
     "execution_count": 20,
     "metadata": {},
     "output_type": "execute_result"
    }
   ],
   "source": [
    "fashion_multi_classfier.score(fashion_test.data, fashion_test.target)"
   ]
  },
  {
   "cell_type": "code",
   "execution_count": 21,
   "metadata": {},
   "outputs": [
    {
     "name": "stdout",
     "output_type": "stream",
     "text": [
      "(784,)\n"
     ]
    }
   ],
   "source": [
    "print(fashion_test.data[0].shape)"
   ]
  },
  {
   "attachments": {},
   "cell_type": "markdown",
   "metadata": {},
   "source": [
    "### Using trained model\n",
    "\n",
    "`\n",
    "0\tT-shirt/top\n",
    "1\tTrouser\n",
    "2\tPullover\n",
    "3\tDress\n",
    "4\tCoat\n",
    "5\tSandal\n",
    "6\tShirt\n",
    "7\tSneaker\n",
    "8\tBag\n",
    "9\tAnkle boot\n",
    "`"
   ]
  },
  {
   "cell_type": "code",
   "execution_count": 22,
   "metadata": {},
   "outputs": [
    {
     "name": "stdout",
     "output_type": "stream",
     "text": [
      "(28, 28, 1)\n",
      "[  1.   1.   1.   1.   1.   1.   1.   1.   1.   1.   1.   1.   1.   1.\n",
      "   1.   1.   1.   1.   1.   1.   1.   1.   1.   1.   1.   1.   1.   1.\n",
      "   0.   0.   0.   0.   0.   0.   0.   0.   0.   0.   0.   0.   0.   0.\n",
      "   0.   0.   0.   0.   0.   0.   0.   0.   0.   0.   0.   0.   0.   0.\n",
      "   1.   1.   1.   1.   1.   1.   1. 206. 191. 194. 211. 203. 193. 192.\n",
      " 204. 201. 210. 213. 186. 190.   1.   1.   1.   1.   1.   1.   1.   1.\n",
      "   1.   1.   1.   0.   0.   0. 187. 187. 187. 187. 188. 189. 189. 188.\n",
      " 190. 189. 187. 187. 184. 185. 188. 187.   0.   0.   0.   1.   1.   1.\n",
      "   1.   1.   1.   1.   1.   1. 193. 185. 185. 187. 187. 187. 187. 184.\n",
      " 188. 187. 187. 185. 183. 184. 218.   1.   1.   1.   1.   1.   1.   1.\n",
      "   1.   1.   1.   1.   1.   1.   1. 198. 181. 181. 181. 183. 182. 180.\n",
      " 183. 182. 181. 181. 180. 150.   2.   1.   1.   1.   1.   1.   1.   1.\n",
      "   0.   0.   0.   1.   1.   1.   1.   3. 140. 137. 149. 164. 153. 157.\n",
      " 154. 158. 147. 142. 138. 129.   1.   1.   1.   1.   1.   0.   0.   0.\n",
      "   0.   0.   0.   0.   0.   0.   0.   0. 150. 173. 159. 153. 157. 154.\n",
      " 157. 163. 172. 169. 155. 146.   0.   0.   0.   0.   0.   0.   0.   0.\n",
      "   1.   1.   1.   0.   0.   0.   0.   0. 146. 175. 166. 166. 167. 155.\n",
      " 172. 173. 177. 170. 155.   6.   0.   0.   0.   0.   0.   1.   1.   1.\n",
      "   1.   1.   1.   1.   1.   1.   1.   1.  14. 178. 174. 173. 174. 161.\n",
      " 163. 174. 172. 181. 166.   1.   1.   1.   1.   1.   1.   1.   1.   1.\n",
      "   0.   0.   0.   1.   1.   1.   1.   1.   1. 223. 220. 217. 220. 220.\n",
      " 217. 212. 210. 217. 208. 208.   1.   1.   1.   1.   1.   0.   0.   0.\n",
      "   0.   0.   0.   0.   0.   0.   0.   0. 177. 217. 215. 207. 217. 223.\n",
      " 217. 214. 211. 227. 210. 216.   0.   0.   0.   0.   0.   0.   0.   0.\n",
      "   0.   0.   0.   0.   0.   0.   0.   0. 180. 178. 162. 151. 151. 200.\n",
      " 179. 160. 156. 213. 233. 221.   0.   0.   0.   0.   0.   0.   0.   0.\n",
      "   0.   0.   0.   0.   0.   0.   0. 180. 175. 190. 152. 147. 151. 201.\n",
      " 184. 180. 159. 217. 250. 215. 215.   0.   0.   0.   0.   0.   0.   0.\n",
      "   1.   1.   1.   1.   1.   1.   0. 203. 191. 194. 154. 163. 170. 203.\n",
      " 195. 182. 172. 220. 221. 217. 216.   1.   1.   1.   1.   1.   1.   1.\n",
      "   1.   1.   1.   1.   1.   1. 190. 173. 205. 196. 151. 163. 172. 209.\n",
      " 204. 182. 204. 222. 220. 226. 231. 183.   1.   1.   1.   1.   1.   1.\n",
      "   0.   0.   0.   1.   1.   1. 206. 159. 211. 203. 158. 174. 178. 214.\n",
      " 217. 184. 222. 225. 218. 229. 228. 184.   1.   1.   1.   0.   0.   0.\n",
      "   1.   1.   1.   1.   1. 185. 207. 173. 216. 208. 159. 178. 179. 218.\n",
      " 221. 187. 225. 222. 215. 228. 228. 227. 182.   1.   1.   1.   1.   1.\n",
      "   0.   0.   0.   0.   1. 208. 202. 174. 219. 216. 168. 180. 181. 187.\n",
      " 223. 186. 227. 222. 212. 227. 228. 228. 177.   0.   0.   0.   0.   0.\n",
      "   0.   0.   0.   1. 173. 209. 182. 180. 221. 225. 174. 183. 183. 191.\n",
      " 226. 186. 228. 228. 222. 181. 200. 189. 182.  28.   1.   0.   0.   0.\n",
      "   1.   1.   1.   1.   0. 238. 165. 183. 220. 229. 176. 184. 185. 191.\n",
      " 227. 219. 229. 228. 221. 181. 192. 195. 186. 180.   1.   1.   1.   1.\n",
      "   1.   1.   1.   1. 225. 246. 225. 235. 253. 139. 178. 185. 185. 191.\n",
      " 226. 228. 227. 224. 225. 182. 178. 201. 189. 183.   1.   1.   1.   1.\n",
      "   1.   1.   1.   1. 235. 251. 223. 229. 253. 248. 178. 184. 186. 189.\n",
      " 224. 192. 204. 221. 192. 186. 181. 208. 191. 185. 185.   1.   1.   1.\n",
      "   0.   0.   0. 227. 236. 251. 222. 228. 242. 241. 225. 229. 229.   0.\n",
      "   0. 189. 183. 219. 200. 188. 182. 210. 191. 184. 184.   0.   0.   0.\n",
      "   0.   0.   0. 231. 234. 240. 226. 229. 235.   1. 240.   1.   1.   1.\n",
      "   1. 189. 183. 208. 206. 194. 184. 201. 192. 187. 185.   0.   0.   0.\n",
      "   0.   0.   0.   0.   0.   0. 227. 226.   0.   0.   0.   0.   0.   0.\n",
      "   0.   0.   0.   0. 207. 195. 185. 159.   0.   0.   0.   0.   0.   0.\n",
      "   1.   1.   1.   1.   1.   1.   1.   1.   1.   1.   1.   1.   1.   1.\n",
      "   1.   1.   1.   1.   1.   1.   1.   1.   1.   1.   1.   1.   1.   1.\n",
      "   0.   0.   0.   0.   0.   0.   0.   0.   0.   0.   0.   0.   0.   0.\n",
      "   0.   0.   0.   0.   0.   0.   0.   0.   0.   0.   0.   0.   0.   0.]\n",
      "[9]\n",
      "[[6.70307710e-14 2.36909326e-14 1.54368956e-14 1.48293553e-13\n",
      "  2.54512657e-18 2.73081810e-04 1.65216331e-16 1.30442639e-07\n",
      "  1.39210458e-16 9.99726788e-01]]\n"
     ]
    }
   ],
   "source": [
    "from tensorflow.keras.utils import load_img, img_to_array\n",
    "\n",
    "image_file = 'dress1_negative.jpg'\n",
    "img = load_img(image_file, target_size=(28, 28), grayscale=True)\n",
    "x = img_to_array(img)\n",
    "print(x.shape)\n",
    "print(x.flatten())\n",
    "\n",
    "print(fashion_multi_classfier.predict(x.flatten().reshape(1,-1)))\n",
    "print(fashion_multi_classfier.predict_proba(x.flatten().reshape(1,-1)))"
   ]
  }
 ],
 "metadata": {
  "kernelspec": {
   "display_name": "base",
   "language": "python",
   "name": "python3"
  },
  "language_info": {
   "codemirror_mode": {
    "name": "ipython",
    "version": 3
   },
   "file_extension": ".py",
   "mimetype": "text/x-python",
   "name": "python",
   "nbconvert_exporter": "python",
   "pygments_lexer": "ipython3",
   "version": "3.9.13"
  },
  "orig_nbformat": 4,
  "vscode": {
   "interpreter": {
    "hash": "3067ead486e059ec00ffe7555bdb889e6e264a24dc711bf108106cc7baee8d5d"
   }
  }
 },
 "nbformat": 4,
 "nbformat_minor": 2
}

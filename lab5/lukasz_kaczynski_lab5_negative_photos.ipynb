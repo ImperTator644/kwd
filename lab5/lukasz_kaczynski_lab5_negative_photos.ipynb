{
 "cells": [
  {
   "attachments": {},
   "cell_type": "markdown",
   "metadata": {},
   "source": [
    "### Usunięcie niepotrzebnych warningów"
   ]
  },
  {
   "cell_type": "code",
   "execution_count": 1,
   "metadata": {},
   "outputs": [],
   "source": [
    "import warnings\n",
    "warnings.filterwarnings('ignore')"
   ]
  },
  {
   "attachments": {},
   "cell_type": "markdown",
   "metadata": {},
   "source": [
    "### Załadowanie danych \"Fashion-MNIST\""
   ]
  },
  {
   "cell_type": "code",
   "execution_count": 2,
   "metadata": {},
   "outputs": [],
   "source": [
    "class DataSet:\n",
    "    def __init__(self, data = None, target = None):\n",
    "        self.data = data\n",
    "        self.target = target"
   ]
  },
  {
   "cell_type": "code",
   "execution_count": 3,
   "metadata": {},
   "outputs": [
    {
     "name": "stderr",
     "output_type": "stream",
     "text": [
      "2023-01-03 19:58:30.550289: I tensorflow/core/platform/cpu_feature_guard.cc:193] This TensorFlow binary is optimized with oneAPI Deep Neural Network Library (oneDNN) to use the following CPU instructions in performance-critical operations:  AVX2 FMA\n",
      "To enable them in other operations, rebuild TensorFlow with the appropriate compiler flags.\n"
     ]
    }
   ],
   "source": [
    "from keras.datasets import fashion_mnist\n",
    "\n",
    "fashion_train = DataSet()\n",
    "fashion_test = DataSet()\n",
    "\n",
    "(x_train, fashion_train.target), (x_test, fashion_test.target) = fashion_mnist.load_data()"
   ]
  },
  {
   "cell_type": "code",
   "execution_count": 4,
   "metadata": {},
   "outputs": [],
   "source": [
    "images_train = []\n",
    "for image_train in x_train:\n",
    "    images_train.append(image_train.flatten())\n",
    "\n",
    "images_test = []\n",
    "for image_test in x_test:\n",
    "    images_test.append(image_test.flatten())"
   ]
  },
  {
   "cell_type": "code",
   "execution_count": 5,
   "metadata": {},
   "outputs": [],
   "source": [
    "import numpy as np"
   ]
  },
  {
   "cell_type": "code",
   "execution_count": 6,
   "metadata": {},
   "outputs": [],
   "source": [
    "fashion_train.data = np.array(images_train)\n",
    "fashion_test.data = np.array(images_test)"
   ]
  },
  {
   "cell_type": "code",
   "execution_count": 7,
   "metadata": {},
   "outputs": [
    {
     "name": "stdout",
     "output_type": "stream",
     "text": [
      "TRAIN SET: \n",
      "(60000, 784)\n",
      "(60000,)\n",
      "\n",
      "TEST SET: \n",
      "(10000, 784)\n",
      "(10000,)\n"
     ]
    }
   ],
   "source": [
    "print(\"TRAIN SET: \")\n",
    "print(fashion_train.data.shape)\n",
    "print(fashion_train.target.shape)\n",
    "\n",
    "print(\"\\nTEST SET: \")\n",
    "print(fashion_test.data.shape)\n",
    "print(fashion_test.target.shape)"
   ]
  },
  {
   "attachments": {},
   "cell_type": "markdown",
   "metadata": {},
   "source": [
    "### Trenowanie modelu LogisticRegression z OneVsResrClassifier"
   ]
  },
  {
   "cell_type": "code",
   "execution_count": 8,
   "metadata": {},
   "outputs": [],
   "source": [
    "from sklearn.linear_model import LogisticRegression\n",
    "from sklearn.multiclass import OneVsRestClassifier"
   ]
  },
  {
   "cell_type": "code",
   "execution_count": 9,
   "metadata": {},
   "outputs": [
    {
     "name": "stderr",
     "output_type": "stream",
     "text": [
      "[Parallel(n_jobs=1)]: Using backend SequentialBackend with 1 concurrent workers.\n",
      " This problem is unconstrained.\n"
     ]
    },
    {
     "name": "stdout",
     "output_type": "stream",
     "text": [
      "RUNNING THE L-BFGS-B CODE\n",
      "\n",
      "           * * *\n",
      "\n",
      "Machine precision = 2.220D-16\n",
      " N =          785     M =           10\n",
      "\n",
      "At X0         0 variables are exactly at the bounds\n",
      "\n",
      "At iterate    0    f=  4.15888D+04    |proj g|=  3.94354D+06\n",
      "\n",
      "           * * *\n",
      "\n",
      "Tit   = total number of iterations\n",
      "Tnf   = total number of function evaluations\n",
      "Tnint = total number of segments explored during Cauchy searches\n",
      "Skip  = number of BFGS updates skipped\n",
      "Nact  = number of active bounds at final generalized Cauchy point\n",
      "Projg = norm of the final projected gradient\n",
      "F     = final function value\n",
      "\n",
      "           * * *\n",
      "\n",
      "   N    Tit     Tnf  Tnint  Skip  Nact     Projg        F\n",
      "  785     10     17      1     0     0   4.491D+04   7.541D+03\n",
      "  F =   7541.4516071801481     \n",
      "\n",
      "STOP: TOTAL NO. of ITERATIONS REACHED LIMIT                 \n"
     ]
    },
    {
     "name": "stderr",
     "output_type": "stream",
     "text": [
      "[Parallel(n_jobs=1)]: Done   1 out of   1 | elapsed:    3.2s finished\n",
      "[Parallel(n_jobs=1)]: Using backend SequentialBackend with 1 concurrent workers.\n",
      " This problem is unconstrained.\n"
     ]
    },
    {
     "name": "stdout",
     "output_type": "stream",
     "text": [
      "RUNNING THE L-BFGS-B CODE\n",
      "\n",
      "           * * *\n",
      "\n",
      "Machine precision = 2.220D-16\n",
      " N =          785     M =           10\n",
      "\n",
      "At X0         0 variables are exactly at the bounds\n",
      "\n",
      "At iterate    0    f=  4.15888D+04    |proj g|=  4.17939D+06\n",
      "\n",
      "           * * *\n",
      "\n",
      "Tit   = total number of iterations\n",
      "Tnf   = total number of function evaluations\n",
      "Tnint = total number of segments explored during Cauchy searches\n",
      "Skip  = number of BFGS updates skipped\n",
      "Nact  = number of active bounds at final generalized Cauchy point\n",
      "Projg = norm of the final projected gradient\n",
      "F     = final function value\n",
      "\n",
      "           * * *\n",
      "\n",
      "   N    Tit     Tnf  Tnint  Skip  Nact     Projg        F\n",
      "  785     10     17      1     0     0   3.726D+04   2.373D+03\n",
      "  F =   2373.2389964496247     \n",
      "\n",
      "STOP: TOTAL NO. of ITERATIONS REACHED LIMIT                 \n",
      "RUNNING THE L-BFGS-B CODE\n",
      "\n",
      "           * * *\n",
      "\n",
      "Machine precision = 2.220D-16\n",
      " N =          785     M =           10\n",
      "\n",
      "At X0         0 variables are exactly at the bounds\n",
      "\n",
      "At iterate    0    f=  4.15888D+04    |proj g|=  3.91512D+06\n"
     ]
    },
    {
     "name": "stderr",
     "output_type": "stream",
     "text": [
      "[Parallel(n_jobs=1)]: Done   1 out of   1 | elapsed:    0.9s finished\n",
      "[Parallel(n_jobs=1)]: Using backend SequentialBackend with 1 concurrent workers.\n",
      " This problem is unconstrained.\n"
     ]
    },
    {
     "name": "stdout",
     "output_type": "stream",
     "text": [
      "\n",
      "           * * *\n",
      "\n",
      "Tit   = total number of iterations\n",
      "Tnf   = total number of function evaluations\n",
      "Tnint = total number of segments explored during Cauchy searches\n",
      "Skip  = number of BFGS updates skipped\n",
      "Nact  = number of active bounds at final generalized Cauchy point\n",
      "Projg = norm of the final projected gradient\n",
      "F     = final function value\n",
      "\n",
      "           * * *\n",
      "\n",
      "   N    Tit     Tnf  Tnint  Skip  Nact     Projg        F\n",
      "  785     10     16      1     0     0   5.948D+04   1.062D+04\n",
      "  F =   10620.321736677635     \n",
      "\n",
      "STOP: TOTAL NO. of ITERATIONS REACHED LIMIT                 \n",
      "RUNNING THE L-BFGS-B CODE\n",
      "\n",
      "           * * *\n",
      "\n",
      "Machine precision = 2.220D-16\n",
      " N =          785     M =           10\n",
      "\n",
      "At X0         0 variables are exactly at the bounds\n",
      "\n",
      "At iterate    0    f=  4.15888D+04    |proj g|=  3.83969D+06\n"
     ]
    },
    {
     "name": "stderr",
     "output_type": "stream",
     "text": [
      "[Parallel(n_jobs=1)]: Done   1 out of   1 | elapsed:    0.9s finished\n",
      "[Parallel(n_jobs=1)]: Using backend SequentialBackend with 1 concurrent workers.\n",
      " This problem is unconstrained.\n"
     ]
    },
    {
     "name": "stdout",
     "output_type": "stream",
     "text": [
      "\n",
      "           * * *\n",
      "\n",
      "Tit   = total number of iterations\n",
      "Tnf   = total number of function evaluations\n",
      "Tnint = total number of segments explored during Cauchy searches\n",
      "Skip  = number of BFGS updates skipped\n",
      "Nact  = number of active bounds at final generalized Cauchy point\n",
      "Projg = norm of the final projected gradient\n",
      "F     = final function value\n",
      "\n",
      "           * * *\n",
      "\n",
      "   N    Tit     Tnf  Tnint  Skip  Nact     Projg        F\n",
      "  785     10     17      1     0     0   3.082D+04   6.064D+03\n",
      "  F =   6063.8849517850358     \n",
      "\n",
      "STOP: TOTAL NO. of ITERATIONS REACHED LIMIT                 \n",
      "RUNNING THE L-BFGS-B CODE\n",
      "\n",
      "           * * *\n",
      "\n",
      "Machine precision = 2.220D-16\n",
      " N =          785     M =           10\n",
      "\n",
      "At X0         0 variables are exactly at the bounds\n",
      "\n",
      "At iterate    0    f=  4.15888D+04    |proj g|=  3.82092D+06\n"
     ]
    },
    {
     "name": "stderr",
     "output_type": "stream",
     "text": [
      "[Parallel(n_jobs=1)]: Done   1 out of   1 | elapsed:    0.9s finished\n",
      "[Parallel(n_jobs=1)]: Using backend SequentialBackend with 1 concurrent workers.\n",
      " This problem is unconstrained.\n"
     ]
    },
    {
     "name": "stdout",
     "output_type": "stream",
     "text": [
      "\n",
      "           * * *\n",
      "\n",
      "Tit   = total number of iterations\n",
      "Tnf   = total number of function evaluations\n",
      "Tnint = total number of segments explored during Cauchy searches\n",
      "Skip  = number of BFGS updates skipped\n",
      "Nact  = number of active bounds at final generalized Cauchy point\n",
      "Projg = norm of the final projected gradient\n",
      "F     = final function value\n",
      "\n",
      "           * * *\n",
      "\n",
      "   N    Tit     Tnf  Tnint  Skip  Nact     Projg        F\n",
      "  785     10     16      1     0     0   1.016D+05   9.719D+03\n",
      "  F =   9719.3353116456783     \n",
      "\n",
      "STOP: TOTAL NO. of ITERATIONS REACHED LIMIT                 \n",
      "RUNNING THE L-BFGS-B CODE\n",
      "\n",
      "           * * *\n",
      "\n",
      "Machine precision = 2.220D-16\n",
      " N =          785     M =           10\n",
      "\n",
      "At X0         0 variables are exactly at the bounds\n",
      "\n",
      "At iterate    0    f=  4.15888D+04    |proj g|=  4.31319D+06\n"
     ]
    },
    {
     "name": "stderr",
     "output_type": "stream",
     "text": [
      "[Parallel(n_jobs=1)]: Done   1 out of   1 | elapsed:    0.9s finished\n",
      "[Parallel(n_jobs=1)]: Using backend SequentialBackend with 1 concurrent workers.\n",
      " This problem is unconstrained.\n",
      "[Parallel(n_jobs=1)]: Done   1 out of   1 | elapsed:    1.0s finished\n",
      "[Parallel(n_jobs=1)]: Using backend SequentialBackend with 1 concurrent workers.\n",
      " This problem is unconstrained.\n"
     ]
    },
    {
     "name": "stdout",
     "output_type": "stream",
     "text": [
      "\n",
      "           * * *\n",
      "\n",
      "Tit   = total number of iterations\n",
      "Tnf   = total number of function evaluations\n",
      "Tnint = total number of segments explored during Cauchy searches\n",
      "Skip  = number of BFGS updates skipped\n",
      "Nact  = number of active bounds at final generalized Cauchy point\n",
      "Projg = norm of the final projected gradient\n",
      "F     = final function value\n",
      "\n",
      "           * * *\n",
      "\n",
      "   N    Tit     Tnf  Tnint  Skip  Nact     Projg        F\n",
      "  785     10     18      1     0     0   2.425D+04   3.920D+03\n",
      "  F =   3920.4693820122056     \n",
      "\n",
      "STOP: TOTAL NO. of ITERATIONS REACHED LIMIT                 \n",
      "RUNNING THE L-BFGS-B CODE\n",
      "\n",
      "           * * *\n",
      "\n",
      "Machine precision = 2.220D-16\n",
      " N =          785     M =           10\n",
      "\n",
      "At X0         0 variables are exactly at the bounds\n",
      "\n",
      "At iterate    0    f=  4.15888D+04    |proj g|=  4.00676D+06\n",
      "\n",
      "           * * *\n",
      "\n",
      "Tit   = total number of iterations\n",
      "Tnf   = total number of function evaluations\n",
      "Tnint = total number of segments explored during Cauchy searches\n",
      "Skip  = number of BFGS updates skipped\n",
      "Nact  = number of active bounds at final generalized Cauchy point\n",
      "Projg = norm of the final projected gradient\n",
      "F     = final function value\n",
      "\n",
      "           * * *\n",
      "\n",
      "   N    Tit     Tnf  Tnint  Skip  Nact     Projg        F\n",
      "  785     10     16      1     0     0   1.130D+05   1.369D+04\n",
      "  F =   13691.255807436926     \n",
      "\n",
      "STOP: TOTAL NO. of ITERATIONS REACHED LIMIT                 \n",
      "RUNNING THE L-BFGS-B CODE\n",
      "\n",
      "           * * *\n",
      "\n",
      "Machine precision = 2.220D-16\n",
      " N =          785     M =           10\n",
      "\n",
      "At X0         0 variables are exactly at the bounds\n",
      "\n",
      "At iterate    0    f=  4.15888D+04    |proj g|=  4.15090D+06\n"
     ]
    },
    {
     "name": "stderr",
     "output_type": "stream",
     "text": [
      "[Parallel(n_jobs=1)]: Done   1 out of   1 | elapsed:    0.9s finished\n",
      "[Parallel(n_jobs=1)]: Using backend SequentialBackend with 1 concurrent workers.\n",
      " This problem is unconstrained.\n",
      "[Parallel(n_jobs=1)]: Done   1 out of   1 | elapsed:    0.9s finished\n",
      "[Parallel(n_jobs=1)]: Using backend SequentialBackend with 1 concurrent workers.\n",
      " This problem is unconstrained.\n"
     ]
    },
    {
     "name": "stdout",
     "output_type": "stream",
     "text": [
      "\n",
      "           * * *\n",
      "\n",
      "Tit   = total number of iterations\n",
      "Tnf   = total number of function evaluations\n",
      "Tnint = total number of segments explored during Cauchy searches\n",
      "Skip  = number of BFGS updates skipped\n",
      "Nact  = number of active bounds at final generalized Cauchy point\n",
      "Projg = norm of the final projected gradient\n",
      "F     = final function value\n",
      "\n",
      "           * * *\n",
      "\n",
      "   N    Tit     Tnf  Tnint  Skip  Nact     Projg        F\n",
      "  785     10     17      1     0     0   2.654D+04   3.609D+03\n",
      "  F =   3608.7966197801088     \n",
      "\n",
      "STOP: TOTAL NO. of ITERATIONS REACHED LIMIT                 \n",
      "RUNNING THE L-BFGS-B CODE\n",
      "\n",
      "           * * *\n",
      "\n",
      "Machine precision = 2.220D-16\n",
      " N =          785     M =           10\n",
      "\n",
      "At X0         0 variables are exactly at the bounds\n",
      "\n",
      "At iterate    0    f=  4.15888D+04    |proj g|=  3.84032D+06\n",
      "\n",
      "           * * *\n",
      "\n",
      "Tit   = total number of iterations\n",
      "Tnf   = total number of function evaluations\n",
      "Tnint = total number of segments explored during Cauchy searches\n",
      "Skip  = number of BFGS updates skipped\n",
      "Nact  = number of active bounds at final generalized Cauchy point\n",
      "Projg = norm of the final projected gradient\n",
      "F     = final function value\n",
      "\n",
      "           * * *\n",
      "\n",
      "   N    Tit     Tnf  Tnint  Skip  Nact     Projg        F\n",
      "  785     10     16      1     0     0   4.656D+04   4.847D+03\n",
      "  F =   4846.8724627509555     \n",
      "\n",
      "STOP: TOTAL NO. of ITERATIONS REACHED LIMIT                 \n",
      "RUNNING THE L-BFGS-B CODE\n",
      "\n",
      "           * * *\n",
      "\n",
      "Machine precision = 2.220D-16\n",
      " N =          785     M =           10\n",
      "\n",
      "At X0         0 variables are exactly at the bounds\n",
      "\n",
      "At iterate    0    f=  4.15888D+04    |proj g|=  3.87678D+06\n"
     ]
    },
    {
     "name": "stderr",
     "output_type": "stream",
     "text": [
      "[Parallel(n_jobs=1)]: Done   1 out of   1 | elapsed:    0.9s finished\n",
      "[Parallel(n_jobs=1)]: Using backend SequentialBackend with 1 concurrent workers.\n",
      " This problem is unconstrained.\n"
     ]
    },
    {
     "name": "stdout",
     "output_type": "stream",
     "text": [
      "\n",
      "           * * *\n",
      "\n",
      "Tit   = total number of iterations\n",
      "Tnf   = total number of function evaluations\n",
      "Tnint = total number of segments explored during Cauchy searches\n",
      "Skip  = number of BFGS updates skipped\n",
      "Nact  = number of active bounds at final generalized Cauchy point\n",
      "Projg = norm of the final projected gradient\n",
      "F     = final function value\n",
      "\n",
      "           * * *\n",
      "\n",
      "   N    Tit     Tnf  Tnint  Skip  Nact     Projg        F\n",
      "  785     10     17      1     0     0   3.147D+04   4.190D+03\n",
      "  F =   4189.8729549929758     \n",
      "\n",
      "STOP: TOTAL NO. of ITERATIONS REACHED LIMIT                 \n"
     ]
    },
    {
     "name": "stderr",
     "output_type": "stream",
     "text": [
      "[Parallel(n_jobs=1)]: Done   1 out of   1 | elapsed:    0.9s finished\n"
     ]
    },
    {
     "data": {
      "text/plain": [
       "OneVsRestClassifier(estimator=LogisticRegression(max_iter=10, verbose=1))"
      ]
     },
     "execution_count": 9,
     "metadata": {},
     "output_type": "execute_result"
    }
   ],
   "source": [
    "fashion_classifier = OneVsRestClassifier(LogisticRegression(verbose=1, max_iter=10))\n",
    "\n",
    "fashion_classifier.fit(fashion_train.data, fashion_train.target)"
   ]
  },
  {
   "attachments": {},
   "cell_type": "markdown",
   "metadata": {},
   "source": [
    "### Zapis modelu do pliku"
   ]
  },
  {
   "cell_type": "code",
   "execution_count": 10,
   "metadata": {},
   "outputs": [],
   "source": [
    "import pickle\n",
    "pickle.dump(fashion_classifier, open('fashion_classifier.model', 'wb'))"
   ]
  },
  {
   "attachments": {},
   "cell_type": "markdown",
   "metadata": {},
   "source": [
    "### Sprawdzenie jakości modelu za pomocą macierzy konfuzji"
   ]
  },
  {
   "cell_type": "code",
   "execution_count": 11,
   "metadata": {},
   "outputs": [],
   "source": [
    "from sklearn.metrics import confusion_matrix"
   ]
  },
  {
   "cell_type": "code",
   "execution_count": 12,
   "metadata": {},
   "outputs": [
    {
     "name": "stdout",
     "output_type": "stream",
     "text": [
      "Confusion matrix for 10 iterations: \n",
      "[[776   4  15  91  22   0  52   2  36   2]\n",
      " [  5 929  13  35  13   0   0   1   2   2]\n",
      " [ 19   1 666   9 201   1  79   0  23   1]\n",
      " [ 27  15   6 847  61   1  33   0  10   0]\n",
      " [  0   2 131  37 757   0  64   0   9   0]\n",
      " [  1   0   0   1   0 837   0  76  13  72]\n",
      " [194   2 142  71 170   0 364   0  57   0]\n",
      " [  0   0   0   0   0  34   0 907   0  59]\n",
      " [  1   0  13  13   7   4  11   7 944   0]\n",
      " [  0   0   0   0   0  23   0  49   1 927]]\n"
     ]
    }
   ],
   "source": [
    "conf_matrix = confusion_matrix(fashion_test.target, fashion_classifier.predict(fashion_test.data))\n",
    "print('Confusion matrix for 10 iterations: ')\n",
    "print(conf_matrix)"
   ]
  },
  {
   "cell_type": "code",
   "execution_count": 13,
   "metadata": {},
   "outputs": [
    {
     "data": {
      "text/plain": [
       "<AxesSubplot:>"
      ]
     },
     "execution_count": 13,
     "metadata": {},
     "output_type": "execute_result"
    },
    {
     "data": {
      "image/png": "[encoded data removed]",
      "text/plain": [
       "<Figure size 640x480 with 2 Axes>"
      ]
     },
     "metadata": {},
     "output_type": "display_data"
    }
   ],
   "source": [
    "import seaborn as sns\n",
    "sns.heatmap(conf_matrix)"
   ]
  },
  {
   "cell_type": "code",
   "execution_count": 14,
   "metadata": {},
   "outputs": [
    {
     "data": {
      "text/plain": [
       "0.7954"
      ]
     },
     "execution_count": 14,
     "metadata": {},
     "output_type": "execute_result"
    }
   ],
   "source": [
    "fashion_classifier.score(fashion_test.data, fashion_test.target)"
   ]
  },
  {
   "attachments": {},
   "cell_type": "markdown",
   "metadata": {},
   "source": [
    "### Rozłozenia prawdopodobieństwa wśród wielu klas przy uzyciu jednego klasyfikatora"
   ]
  },
  {
   "cell_type": "code",
   "execution_count": 15,
   "metadata": {},
   "outputs": [
    {
     "name": "stderr",
     "output_type": "stream",
     "text": [
      "[Parallel(n_jobs=1)]: Using backend SequentialBackend with 1 concurrent workers.\n"
     ]
    },
    {
     "name": "stdout",
     "output_type": "stream",
     "text": [
      "Epoch 1, change: 1.00000000\n",
      "Epoch 2, change: 0.36141318\n",
      "Epoch 3, change: 0.33893427\n",
      "Epoch 4, change: 0.15742984\n",
      "Epoch 5, change: 0.12444481\n",
      "Epoch 6, change: 0.08471446\n",
      "Epoch 7, change: 0.08004435\n",
      "Epoch 8, change: 0.06653610\n",
      "Epoch 9, change: 0.05776468\n",
      "max_iter reached after 15 secondsEpoch 10, change: 0.04961949\n",
      "\n"
     ]
    },
    {
     "name": "stderr",
     "output_type": "stream",
     "text": [
      "[Parallel(n_jobs=1)]: Done   1 out of   1 | elapsed:   14.9s finished\n"
     ]
    },
    {
     "data": {
      "text/plain": [
       "LogisticRegression(max_iter=10, multi_class='multinomial', solver='sag',\n",
       "                   verbose=1)"
      ]
     },
     "execution_count": 15,
     "metadata": {},
     "output_type": "execute_result"
    }
   ],
   "source": [
    "fashion_multi_classfier = LogisticRegression(verbose=1, max_iter=10, multi_class=\"multinomial\", solver=\"sag\")\n",
    "\n",
    "fashion_multi_classfier.fit(fashion_train.data, fashion_train.target)\n"
   ]
  },
  {
   "attachments": {},
   "cell_type": "markdown",
   "metadata": {},
   "source": [
    "### Zapis modelu do pliku"
   ]
  },
  {
   "cell_type": "code",
   "execution_count": 16,
   "metadata": {},
   "outputs": [],
   "source": [
    "pickle.dump(fashion_multi_classfier, open('fashion_multi_classifier.model', 'wb'))"
   ]
  },
  {
   "attachments": {},
   "cell_type": "markdown",
   "metadata": {},
   "source": [
    "### Sprawdzenie jakości modelu za pomocą macierzy konfuzji"
   ]
  },
  {
   "cell_type": "code",
   "execution_count": 17,
   "metadata": {},
   "outputs": [
    {
     "name": "stdout",
     "output_type": "stream",
     "text": [
      "Confusion matrix for 10 iterations: \n",
      "[[799   8  13  52   9   0 107   0  12   0]\n",
      " [  3 957   4  27   4   0   3   0   2   0]\n",
      " [ 25   5 743  12 128   1  74   0  12   0]\n",
      " [ 24  19  20 849  39   1  42   0   6   0]\n",
      " [  0   1 119  31 767   0  74   0   8   0]\n",
      " [  0   0   0   1   0 898   0  51   6  44]\n",
      " [141   1 123  36 114   0 565   0  20   0]\n",
      " [  0   0   0   0   0  32   0 937   0  31]\n",
      " [  5   1   6  11   4   4  19   6 944   0]\n",
      " [  0   0   0   0   0  11   1  37   0 951]]\n"
     ]
    }
   ],
   "source": [
    "conf_matrix = confusion_matrix(fashion_test.target, fashion_multi_classfier.predict(fashion_test.data))\n",
    "\n",
    "print(\"Confusion matrix for 10 iterations: \")\n",
    "print(conf_matrix)"
   ]
  },
  {
   "cell_type": "code",
   "execution_count": 18,
   "metadata": {},
   "outputs": [
    {
     "data": {
      "text/plain": [
       "<AxesSubplot:>"
      ]
     },
     "execution_count": 18,
     "metadata": {},
     "output_type": "execute_result"
    },
    {
     "data": {
      "image/png": "[encoded data removed]",
      "text/plain": [
       "<Figure size 640x480 with 2 Axes>"
      ]
     },
     "metadata": {},
     "output_type": "display_data"
    }
   ],
   "source": [
    "sns.heatmap(conf_matrix)"
   ]
  },
  {
   "cell_type": "code",
   "execution_count": 19,
   "metadata": {},
   "outputs": [
    {
     "data": {
      "text/plain": [
       "0.841"
      ]
     },
     "execution_count": 19,
     "metadata": {},
     "output_type": "execute_result"
    }
   ],
   "source": [
    "fashion_multi_classfier.score(fashion_test.data, fashion_test.target)"
   ]
  },
  {
   "cell_type": "code",
   "execution_count": 20,
   "metadata": {},
   "outputs": [
    {
     "name": "stdout",
     "output_type": "stream",
     "text": [
      "(784,)\n"
     ]
    }
   ],
   "source": [
    "print(fashion_test.data[0].shape)"
   ]
  },
  {
   "attachments": {},
   "cell_type": "markdown",
   "metadata": {},
   "source": [
    "### Using trained model\n",
    "\n",
    "`\n",
    "0\tT-shirt/top\n",
    "1\tTrouser\n",
    "2\tPullover\n",
    "3\tDress\n",
    "4\tCoat\n",
    "5\tSandal\n",
    "6\tShirt\n",
    "7\tSneaker\n",
    "8\tBag\n",
    "9\tAnkle boot\n",
    "`"
   ]
  },
  {
   "cell_type": "code",
   "execution_count": 21,
   "metadata": {},
   "outputs": [
    {
     "name": "stdout",
     "output_type": "stream",
     "text": [
      "(28, 28, 1)\n",
      "[  1.   1.   1.   1.   1.   1.   1.   1.   1.   1.   1.   1.   1.   1.\n",
      "   1.   1.   1.   1.   1.   1.   1.   1.   1.   1.   1.   1.   1.   1.\n",
      "   0.   0.   0.   0.   0.   0.   0.   0.   0.   0.   0.   0.   0.   0.\n",
      "   0.   0.   0.   0.   0.   0.   0.   0.   0.   0.   0.   0.   0.   0.\n",
      "   1.   1.   1.   1.   1.   1.   1. 206. 191. 194. 211. 203. 193. 192.\n",
      " 204. 201. 210. 213. 186. 190.   1.   1.   1.   1.   1.   1.   1.   1.\n",
      "   1.   1.   1.   0.   0.   0. 187. 187. 187. 187. 188. 189. 189. 188.\n",
      " 190. 189. 187. 187. 184. 185. 188. 187.   0.   0.   0.   1.   1.   1.\n",
      "   1.   1.   1.   1.   1.   1. 193. 185. 185. 187. 187. 187. 187. 184.\n",
      " 188. 187. 187. 185. 183. 184. 218.   1.   1.   1.   1.   1.   1.   1.\n",
      "   1.   1.   1.   1.   1.   1.   1. 198. 181. 181. 181. 183. 182. 180.\n",
      " 183. 182. 181. 181. 180. 150.   2.   1.   1.   1.   1.   1.   1.   1.\n",
      "   0.   0.   0.   1.   1.   1.   1.   3. 140. 137. 149. 164. 153. 157.\n",
      " 154. 158. 147. 142. 138. 129.   1.   1.   1.   1.   1.   0.   0.   0.\n",
      "   0.   0.   0.   0.   0.   0.   0.   0. 150. 173. 159. 153. 157. 154.\n",
      " 157. 163. 172. 169. 155. 146.   0.   0.   0.   0.   0.   0.   0.   0.\n",
      "   1.   1.   1.   0.   0.   0.   0.   0. 146. 175. 166. 166. 167. 155.\n",
      " 172. 173. 177. 170. 155.   6.   0.   0.   0.   0.   0.   1.   1.   1.\n",
      "   1.   1.   1.   1.   1.   1.   1.   1.  14. 178. 174. 173. 174. 161.\n",
      " 163. 174. 172. 181. 166.   1.   1.   1.   1.   1.   1.   1.   1.   1.\n",
      "   0.   0.   0.   1.   1.   1.   1.   1.   1. 223. 220. 217. 220. 220.\n",
      " 217. 212. 210. 217. 208. 208.   1.   1.   1.   1.   1.   0.   0.   0.\n",
      "   0.   0.   0.   0.   0.   0.   0.   0. 177. 217. 215. 207. 217. 223.\n",
      " 217. 214. 211. 227. 210. 216.   0.   0.   0.   0.   0.   0.   0.   0.\n",
      "   0.   0.   0.   0.   0.   0.   0.   0. 180. 178. 162. 151. 151. 200.\n",
      " 179. 160. 156. 213. 233. 221.   0.   0.   0.   0.   0.   0.   0.   0.\n",
      "   0.   0.   0.   0.   0.   0.   0. 180. 175. 190. 152. 147. 151. 201.\n",
      " 184. 180. 159. 217. 250. 215. 215.   0.   0.   0.   0.   0.   0.   0.\n",
      "   1.   1.   1.   1.   1.   1.   0. 203. 191. 194. 154. 163. 170. 203.\n",
      " 195. 182. 172. 220. 221. 217. 216.   1.   1.   1.   1.   1.   1.   1.\n",
      "   1.   1.   1.   1.   1.   1. 190. 173. 205. 196. 151. 163. 172. 209.\n",
      " 204. 182. 204. 222. 220. 226. 231. 183.   1.   1.   1.   1.   1.   1.\n",
      "   0.   0.   0.   1.   1.   1. 206. 159. 211. 203. 158. 174. 178. 214.\n",
      " 217. 184. 222. 225. 218. 229. 228. 184.   1.   1.   1.   0.   0.   0.\n",
      "   1.   1.   1.   1.   1. 185. 207. 173. 216. 208. 159. 178. 179. 218.\n",
      " 221. 187. 225. 222. 215. 228. 228. 227. 182.   1.   1.   1.   1.   1.\n",
      "   0.   0.   0.   0.   1. 208. 202. 174. 219. 216. 168. 180. 181. 187.\n",
      " 223. 186. 227. 222. 212. 227. 228. 228. 177.   0.   0.   0.   0.   0.\n",
      "   0.   0.   0.   1. 173. 209. 182. 180. 221. 225. 174. 183. 183. 191.\n",
      " 226. 186. 228. 228. 222. 181. 200. 189. 182.  28.   1.   0.   0.   0.\n",
      "   1.   1.   1.   1.   0. 238. 165. 183. 220. 229. 176. 184. 185. 191.\n",
      " 227. 219. 229. 228. 221. 181. 192. 195. 186. 180.   1.   1.   1.   1.\n",
      "   1.   1.   1.   1. 225. 246. 225. 235. 253. 139. 178. 185. 185. 191.\n",
      " 226. 228. 227. 224. 225. 182. 178. 201. 189. 183.   1.   1.   1.   1.\n",
      "   1.   1.   1.   1. 235. 251. 223. 229. 253. 248. 178. 184. 186. 189.\n",
      " 224. 192. 204. 221. 192. 186. 181. 208. 191. 185. 185.   1.   1.   1.\n",
      "   0.   0.   0. 227. 236. 251. 222. 228. 242. 241. 225. 229. 229.   0.\n",
      "   0. 189. 183. 219. 200. 188. 182. 210. 191. 184. 184.   0.   0.   0.\n",
      "   0.   0.   0. 231. 234. 240. 226. 229. 235.   1. 240.   1.   1.   1.\n",
      "   1. 189. 183. 208. 206. 194. 184. 201. 192. 187. 185.   0.   0.   0.\n",
      "   0.   0.   0.   0.   0.   0. 227. 226.   0.   0.   0.   0.   0.   0.\n",
      "   0.   0.   0.   0. 207. 195. 185. 159.   0.   0.   0.   0.   0.   0.\n",
      "   1.   1.   1.   1.   1.   1.   1.   1.   1.   1.   1.   1.   1.   1.\n",
      "   1.   1.   1.   1.   1.   1.   1.   1.   1.   1.   1.   1.   1.   1.\n",
      "   0.   0.   0.   0.   0.   0.   0.   0.   0.   0.   0.   0.   0.   0.\n",
      "   0.   0.   0.   0.   0.   0.   0.   0.   0.   0.   0.   0.   0.   0.]\n",
      "[4]\n",
      "[[2.29293843e-04 1.88460702e-04 7.73746584e-04 8.81414363e-05\n",
      "  7.47831932e-01 4.12196643e-09 3.58129306e-02 1.42323855e-08\n",
      "  2.15075477e-01 2.40786670e-15]]\n"
     ]
    }
   ],
   "source": [
    "from tensorflow.keras.utils import load_img, img_to_array\n",
    "\n",
    "image_file = 'dress1_negative.jpg'\n",
    "img = load_img(image_file, target_size=(28, 28), grayscale=True)\n",
    "x = img_to_array(img)\n",
    "print(x.shape)\n",
    "print(x.flatten())\n",
    "\n",
    "print(fashion_multi_classfier.predict(x.flatten().reshape(1,-1)))\n",
    "print(fashion_multi_classfier.predict_proba(x.flatten().reshape(1,-1)))"
   ]
  }
 ],
 "metadata": {
  "kernelspec": {
   "display_name": "base",
   "language": "python",
   "name": "python3"
  },
  "language_info": {
   "codemirror_mode": {
    "name": "ipython",
    "version": 3
   },
   "file_extension": ".py",
   "mimetype": "text/x-python",
   "name": "python",
   "nbconvert_exporter": "python",
   "pygments_lexer": "ipython3",
   "version": "3.9.13"
  },
  "orig_nbformat": 4,
  "vscode": {
   "interpreter": {
    "hash": "3067ead486e059ec00ffe7555bdb889e6e264a24dc711bf108106cc7baee8d5d"
   }
  }
 },
 "nbformat": 4,
 "nbformat_minor": 2
}
